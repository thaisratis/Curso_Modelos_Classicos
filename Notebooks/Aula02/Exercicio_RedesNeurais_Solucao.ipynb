{
 "cells": [
  {
   "cell_type": "markdown",
   "metadata": {},
   "source": [
    "# Importação das bibliotecas"
   ]
  },
  {
   "cell_type": "code",
   "execution_count": 38,
   "metadata": {},
   "outputs": [],
   "source": [
    "import numpy as np\n",
    "import pandas as pd\n",
    "import matplotlib.pyplot as plt\n",
    "from sklearn.preprocessing import StandardScaler\n",
    "import seaborn as sns\n",
    "from sklearn.metrics import accuracy_score, confusion_matrix\n",
    "from sklearn import metrics\n",
    "from sklearn.model_selection import train_test_split\n",
    "from tensorflow import keras\n",
    "import tensorflow as tf\n",
    "from sklearn.ensemble import RandomForestClassifier\n",
    "from sklearn.metrics import classification_report \n",
    "\n",
    "\n",
    "tf.get_logger().setLevel('WARNING')"
   ]
  },
  {
   "cell_type": "markdown",
   "metadata": {},
   "source": [
    "# Carregando os dados"
   ]
  },
  {
   "cell_type": "code",
   "execution_count": 39,
   "metadata": {},
   "outputs": [
    {
     "data": {
      "text/html": [
       "<div>\n",
       "<style scoped>\n",
       "    .dataframe tbody tr th:only-of-type {\n",
       "        vertical-align: middle;\n",
       "    }\n",
       "\n",
       "    .dataframe tbody tr th {\n",
       "        vertical-align: top;\n",
       "    }\n",
       "\n",
       "    .dataframe thead th {\n",
       "        text-align: right;\n",
       "    }\n",
       "</style>\n",
       "<table border=\"1\" class=\"dataframe\">\n",
       "  <thead>\n",
       "    <tr style=\"text-align: right;\">\n",
       "      <th></th>\n",
       "      <th>Pregnancies</th>\n",
       "      <th>Glucose</th>\n",
       "      <th>BloodPressure</th>\n",
       "      <th>SkinThickness</th>\n",
       "      <th>Insulin</th>\n",
       "      <th>BMI</th>\n",
       "      <th>DiabetesPedigreeFunction</th>\n",
       "      <th>Age</th>\n",
       "      <th>Outcome</th>\n",
       "    </tr>\n",
       "  </thead>\n",
       "  <tbody>\n",
       "    <tr>\n",
       "      <th>0</th>\n",
       "      <td>6</td>\n",
       "      <td>148</td>\n",
       "      <td>72</td>\n",
       "      <td>35</td>\n",
       "      <td>0</td>\n",
       "      <td>33.6</td>\n",
       "      <td>0.627</td>\n",
       "      <td>50</td>\n",
       "      <td>1</td>\n",
       "    </tr>\n",
       "    <tr>\n",
       "      <th>1</th>\n",
       "      <td>1</td>\n",
       "      <td>85</td>\n",
       "      <td>66</td>\n",
       "      <td>29</td>\n",
       "      <td>0</td>\n",
       "      <td>26.6</td>\n",
       "      <td>0.351</td>\n",
       "      <td>31</td>\n",
       "      <td>0</td>\n",
       "    </tr>\n",
       "    <tr>\n",
       "      <th>2</th>\n",
       "      <td>8</td>\n",
       "      <td>183</td>\n",
       "      <td>64</td>\n",
       "      <td>0</td>\n",
       "      <td>0</td>\n",
       "      <td>23.3</td>\n",
       "      <td>0.672</td>\n",
       "      <td>32</td>\n",
       "      <td>1</td>\n",
       "    </tr>\n",
       "    <tr>\n",
       "      <th>3</th>\n",
       "      <td>1</td>\n",
       "      <td>89</td>\n",
       "      <td>66</td>\n",
       "      <td>23</td>\n",
       "      <td>94</td>\n",
       "      <td>28.1</td>\n",
       "      <td>0.167</td>\n",
       "      <td>21</td>\n",
       "      <td>0</td>\n",
       "    </tr>\n",
       "    <tr>\n",
       "      <th>4</th>\n",
       "      <td>0</td>\n",
       "      <td>137</td>\n",
       "      <td>40</td>\n",
       "      <td>35</td>\n",
       "      <td>168</td>\n",
       "      <td>43.1</td>\n",
       "      <td>2.288</td>\n",
       "      <td>33</td>\n",
       "      <td>1</td>\n",
       "    </tr>\n",
       "    <tr>\n",
       "      <th>...</th>\n",
       "      <td>...</td>\n",
       "      <td>...</td>\n",
       "      <td>...</td>\n",
       "      <td>...</td>\n",
       "      <td>...</td>\n",
       "      <td>...</td>\n",
       "      <td>...</td>\n",
       "      <td>...</td>\n",
       "      <td>...</td>\n",
       "    </tr>\n",
       "    <tr>\n",
       "      <th>763</th>\n",
       "      <td>10</td>\n",
       "      <td>101</td>\n",
       "      <td>76</td>\n",
       "      <td>48</td>\n",
       "      <td>180</td>\n",
       "      <td>32.9</td>\n",
       "      <td>0.171</td>\n",
       "      <td>63</td>\n",
       "      <td>0</td>\n",
       "    </tr>\n",
       "    <tr>\n",
       "      <th>764</th>\n",
       "      <td>2</td>\n",
       "      <td>122</td>\n",
       "      <td>70</td>\n",
       "      <td>27</td>\n",
       "      <td>0</td>\n",
       "      <td>36.8</td>\n",
       "      <td>0.340</td>\n",
       "      <td>27</td>\n",
       "      <td>0</td>\n",
       "    </tr>\n",
       "    <tr>\n",
       "      <th>765</th>\n",
       "      <td>5</td>\n",
       "      <td>121</td>\n",
       "      <td>72</td>\n",
       "      <td>23</td>\n",
       "      <td>112</td>\n",
       "      <td>26.2</td>\n",
       "      <td>0.245</td>\n",
       "      <td>30</td>\n",
       "      <td>0</td>\n",
       "    </tr>\n",
       "    <tr>\n",
       "      <th>766</th>\n",
       "      <td>1</td>\n",
       "      <td>126</td>\n",
       "      <td>60</td>\n",
       "      <td>0</td>\n",
       "      <td>0</td>\n",
       "      <td>30.1</td>\n",
       "      <td>0.349</td>\n",
       "      <td>47</td>\n",
       "      <td>1</td>\n",
       "    </tr>\n",
       "    <tr>\n",
       "      <th>767</th>\n",
       "      <td>1</td>\n",
       "      <td>93</td>\n",
       "      <td>70</td>\n",
       "      <td>31</td>\n",
       "      <td>0</td>\n",
       "      <td>30.4</td>\n",
       "      <td>0.315</td>\n",
       "      <td>23</td>\n",
       "      <td>0</td>\n",
       "    </tr>\n",
       "  </tbody>\n",
       "</table>\n",
       "<p>768 rows × 9 columns</p>\n",
       "</div>"
      ],
      "text/plain": [
       "     Pregnancies  Glucose  BloodPressure  SkinThickness  Insulin   BMI  \\\n",
       "0              6      148             72             35        0  33.6   \n",
       "1              1       85             66             29        0  26.6   \n",
       "2              8      183             64              0        0  23.3   \n",
       "3              1       89             66             23       94  28.1   \n",
       "4              0      137             40             35      168  43.1   \n",
       "..           ...      ...            ...            ...      ...   ...   \n",
       "763           10      101             76             48      180  32.9   \n",
       "764            2      122             70             27        0  36.8   \n",
       "765            5      121             72             23      112  26.2   \n",
       "766            1      126             60              0        0  30.1   \n",
       "767            1       93             70             31        0  30.4   \n",
       "\n",
       "     DiabetesPedigreeFunction  Age  Outcome  \n",
       "0                       0.627   50        1  \n",
       "1                       0.351   31        0  \n",
       "2                       0.672   32        1  \n",
       "3                       0.167   21        0  \n",
       "4                       2.288   33        1  \n",
       "..                        ...  ...      ...  \n",
       "763                     0.171   63        0  \n",
       "764                     0.340   27        0  \n",
       "765                     0.245   30        0  \n",
       "766                     0.349   47        1  \n",
       "767                     0.315   23        0  \n",
       "\n",
       "[768 rows x 9 columns]"
      ]
     },
     "execution_count": 39,
     "metadata": {},
     "output_type": "execute_result"
    }
   ],
   "source": [
    "Train_Data = pd.read_csv(\"../../Datasets/diabetes.csv\")\n",
    "Train_Data"
   ]
  },
  {
   "cell_type": "markdown",
   "metadata": {},
   "source": [
    "## Descrição das colunas"
   ]
  },
  {
   "cell_type": "markdown",
   "metadata": {},
   "source": [
    "1. 'Pregnancies': Number of pregnancies.\n",
    "2. 'Glucose': Glucose level.\n",
    "3. 'BloodPressure': Blood pressure.\n",
    "4. 'SkinThickness': Skin thickness.\n",
    "5. 'Insulin': Insulin level.\n",
    "6. 'BMI': Body mass index.\n",
    "7. 'DiabetesPedigreeFunction': Diabetes pedigree function.\n",
    "8. 'Age': Age of the patient.\n",
    "9. 'Outcome': Binary variable indicating diabetes outcome (0: No diabetes, 1: Diabetes)."
   ]
  },
  {
   "cell_type": "code",
   "execution_count": 40,
   "metadata": {},
   "outputs": [
    {
     "name": "stdout",
     "output_type": "stream",
     "text": [
      "<class 'pandas.core.frame.DataFrame'>\n",
      "RangeIndex: 768 entries, 0 to 767\n",
      "Data columns (total 9 columns):\n",
      " #   Column                    Non-Null Count  Dtype  \n",
      "---  ------                    --------------  -----  \n",
      " 0   Pregnancies               768 non-null    int64  \n",
      " 1   Glucose                   768 non-null    int64  \n",
      " 2   BloodPressure             768 non-null    int64  \n",
      " 3   SkinThickness             768 non-null    int64  \n",
      " 4   Insulin                   768 non-null    int64  \n",
      " 5   BMI                       768 non-null    float64\n",
      " 6   DiabetesPedigreeFunction  768 non-null    float64\n",
      " 7   Age                       768 non-null    int64  \n",
      " 8   Outcome                   768 non-null    int64  \n",
      "dtypes: float64(2), int64(7)\n",
      "memory usage: 54.1 KB\n"
     ]
    }
   ],
   "source": [
    "Train_Data.info()"
   ]
  },
  {
   "cell_type": "markdown",
   "metadata": {},
   "source": [
    "# Checar se as classes estão balanceadas"
   ]
  },
  {
   "cell_type": "code",
   "execution_count": 41,
   "metadata": {},
   "outputs": [
    {
     "data": {
      "text/plain": [
       "0    500\n",
       "1    268\n",
       "Name: Outcome, dtype: int64"
      ]
     },
     "execution_count": 41,
     "metadata": {},
     "output_type": "execute_result"
    }
   ],
   "source": [
    "Train_Data['Outcome'].value_counts()"
   ]
  },
  {
   "cell_type": "markdown",
   "metadata": {},
   "source": [
    "# Checar se existem dados duplicados"
   ]
  },
  {
   "cell_type": "code",
   "execution_count": 42,
   "metadata": {},
   "outputs": [
    {
     "name": "stdout",
     "output_type": "stream",
     "text": [
      "Duplicated values:  0\n"
     ]
    },
    {
     "data": {
      "text/html": [
       "<div>\n",
       "<style scoped>\n",
       "    .dataframe tbody tr th:only-of-type {\n",
       "        vertical-align: middle;\n",
       "    }\n",
       "\n",
       "    .dataframe tbody tr th {\n",
       "        vertical-align: top;\n",
       "    }\n",
       "\n",
       "    .dataframe thead th {\n",
       "        text-align: right;\n",
       "    }\n",
       "</style>\n",
       "<table border=\"1\" class=\"dataframe\">\n",
       "  <thead>\n",
       "    <tr style=\"text-align: right;\">\n",
       "      <th></th>\n",
       "      <th>Pregnancies</th>\n",
       "      <th>Glucose</th>\n",
       "      <th>BloodPressure</th>\n",
       "      <th>SkinThickness</th>\n",
       "      <th>Insulin</th>\n",
       "      <th>BMI</th>\n",
       "      <th>DiabetesPedigreeFunction</th>\n",
       "      <th>Age</th>\n",
       "      <th>Outcome</th>\n",
       "    </tr>\n",
       "  </thead>\n",
       "  <tbody>\n",
       "  </tbody>\n",
       "</table>\n",
       "</div>"
      ],
      "text/plain": [
       "Empty DataFrame\n",
       "Columns: [Pregnancies, Glucose, BloodPressure, SkinThickness, Insulin, BMI, DiabetesPedigreeFunction, Age, Outcome]\n",
       "Index: []"
      ]
     },
     "execution_count": 42,
     "metadata": {},
     "output_type": "execute_result"
    }
   ],
   "source": [
    "print(\"Duplicated values: \", Train_Data.duplicated().sum())\n",
    "duplicate = Train_Data[Train_Data.duplicated()]\n",
    "duplicate"
   ]
  },
  {
   "cell_type": "markdown",
   "metadata": {},
   "source": [
    "# Checar se existem dados faltantes"
   ]
  },
  {
   "cell_type": "code",
   "execution_count": 43,
   "metadata": {},
   "outputs": [
    {
     "name": "stdout",
     "output_type": "stream",
     "text": [
      "Missing values:  0\n"
     ]
    }
   ],
   "source": [
    "print(\"Missing values: \", Train_Data.isnull().sum().sum())"
   ]
  },
  {
   "cell_type": "markdown",
   "metadata": {},
   "source": [
    "# Checar se existem correlações entre os atributos e a saída"
   ]
  },
  {
   "cell_type": "code",
   "execution_count": 44,
   "metadata": {
    "scrolled": true
   },
   "outputs": [
    {
     "data": {
      "text/html": [
       "<style type=\"text/css\">\n",
       "#T_0dea8_row0_col0, #T_0dea8_row1_col1, #T_0dea8_row2_col2, #T_0dea8_row3_col3, #T_0dea8_row4_col4, #T_0dea8_row5_col5, #T_0dea8_row6_col6, #T_0dea8_row7_col7, #T_0dea8_row8_col8 {\n",
       "  background-color: #b40426;\n",
       "  color: #f1f1f1;\n",
       "}\n",
       "#T_0dea8_row0_col1 {\n",
       "  background-color: #516ddb;\n",
       "  color: #f1f1f1;\n",
       "}\n",
       "#T_0dea8_row0_col2 {\n",
       "  background-color: #5a78e4;\n",
       "  color: #f1f1f1;\n",
       "}\n",
       "#T_0dea8_row0_col3, #T_0dea8_row7_col4 {\n",
       "  background-color: #4358cb;\n",
       "  color: #f1f1f1;\n",
       "}\n",
       "#T_0dea8_row0_col4, #T_0dea8_row0_col5, #T_0dea8_row0_col6, #T_0dea8_row2_col8, #T_0dea8_row3_col0, #T_0dea8_row3_col1, #T_0dea8_row3_col7, #T_0dea8_row6_col2, #T_0dea8_row7_col3 {\n",
       "  background-color: #3b4cc0;\n",
       "  color: #f1f1f1;\n",
       "}\n",
       "#T_0dea8_row0_col7 {\n",
       "  background-color: #f1cdba;\n",
       "  color: #000000;\n",
       "}\n",
       "#T_0dea8_row0_col8, #T_0dea8_row1_col6 {\n",
       "  background-color: #6f92f3;\n",
       "  color: #f1f1f1;\n",
       "}\n",
       "#T_0dea8_row1_col0 {\n",
       "  background-color: #799cf8;\n",
       "  color: #f1f1f1;\n",
       "}\n",
       "#T_0dea8_row1_col2, #T_0dea8_row6_col8 {\n",
       "  background-color: #5e7de7;\n",
       "  color: #f1f1f1;\n",
       "}\n",
       "#T_0dea8_row1_col3 {\n",
       "  background-color: #6b8df0;\n",
       "  color: #f1f1f1;\n",
       "}\n",
       "#T_0dea8_row1_col4 {\n",
       "  background-color: #b9d0f9;\n",
       "  color: #000000;\n",
       "}\n",
       "#T_0dea8_row1_col5, #T_0dea8_row3_col6 {\n",
       "  background-color: #7ea1fa;\n",
       "  color: #f1f1f1;\n",
       "}\n",
       "#T_0dea8_row1_col7 {\n",
       "  background-color: #abc8fd;\n",
       "  color: #000000;\n",
       "}\n",
       "#T_0dea8_row1_col8 {\n",
       "  background-color: #c9d7f0;\n",
       "  color: #000000;\n",
       "}\n",
       "#T_0dea8_row2_col0, #T_0dea8_row7_col2 {\n",
       "  background-color: #7da0f9;\n",
       "  color: #f1f1f1;\n",
       "}\n",
       "#T_0dea8_row2_col1 {\n",
       "  background-color: #5977e3;\n",
       "  color: #f1f1f1;\n",
       "}\n",
       "#T_0dea8_row2_col3 {\n",
       "  background-color: #9abbff;\n",
       "  color: #000000;\n",
       "}\n",
       "#T_0dea8_row2_col4 {\n",
       "  background-color: #6a8bef;\n",
       "  color: #f1f1f1;\n",
       "}\n",
       "#T_0dea8_row2_col5, #T_0dea8_row6_col3 {\n",
       "  background-color: #93b5fe;\n",
       "  color: #000000;\n",
       "}\n",
       "#T_0dea8_row2_col6 {\n",
       "  background-color: #506bda;\n",
       "  color: #f1f1f1;\n",
       "}\n",
       "#T_0dea8_row2_col7 {\n",
       "  background-color: #a5c3fe;\n",
       "  color: #000000;\n",
       "}\n",
       "#T_0dea8_row3_col2, #T_0dea8_row5_col1 {\n",
       "  background-color: #7295f4;\n",
       "  color: #f1f1f1;\n",
       "}\n",
       "#T_0dea8_row3_col4 {\n",
       "  background-color: #d6dce4;\n",
       "  color: #000000;\n",
       "}\n",
       "#T_0dea8_row3_col5 {\n",
       "  background-color: #bad0f8;\n",
       "  color: #000000;\n",
       "}\n",
       "#T_0dea8_row3_col8 {\n",
       "  background-color: #3d50c3;\n",
       "  color: #f1f1f1;\n",
       "}\n",
       "#T_0dea8_row4_col0 {\n",
       "  background-color: #3c4ec2;\n",
       "  color: #f1f1f1;\n",
       "}\n",
       "#T_0dea8_row4_col1 {\n",
       "  background-color: #9bbcff;\n",
       "  color: #000000;\n",
       "}\n",
       "#T_0dea8_row4_col2 {\n",
       "  background-color: #4961d2;\n",
       "  color: #f1f1f1;\n",
       "}\n",
       "#T_0dea8_row4_col3 {\n",
       "  background-color: #dbdcde;\n",
       "  color: #000000;\n",
       "}\n",
       "#T_0dea8_row4_col5 {\n",
       "  background-color: #7597f6;\n",
       "  color: #f1f1f1;\n",
       "}\n",
       "#T_0dea8_row4_col6 {\n",
       "  background-color: #80a3fa;\n",
       "  color: #f1f1f1;\n",
       "}\n",
       "#T_0dea8_row4_col7, #T_0dea8_row7_col6 {\n",
       "  background-color: #4e68d8;\n",
       "  color: #f1f1f1;\n",
       "}\n",
       "#T_0dea8_row4_col8 {\n",
       "  background-color: #4f69d9;\n",
       "  color: #f1f1f1;\n",
       "}\n",
       "#T_0dea8_row5_col0 {\n",
       "  background-color: #5673e0;\n",
       "  color: #f1f1f1;\n",
       "}\n",
       "#T_0dea8_row5_col2, #T_0dea8_row5_col4 {\n",
       "  background-color: #8db0fe;\n",
       "  color: #000000;\n",
       "}\n",
       "#T_0dea8_row5_col3 {\n",
       "  background-color: #d1dae9;\n",
       "  color: #000000;\n",
       "}\n",
       "#T_0dea8_row5_col6, #T_0dea8_row8_col3 {\n",
       "  background-color: #7093f3;\n",
       "  color: #f1f1f1;\n",
       "}\n",
       "#T_0dea8_row5_col7 {\n",
       "  background-color: #6485ec;\n",
       "  color: #f1f1f1;\n",
       "}\n",
       "#T_0dea8_row5_col8 {\n",
       "  background-color: #8badfd;\n",
       "  color: #000000;\n",
       "}\n",
       "#T_0dea8_row6_col0 {\n",
       "  background-color: #485fd1;\n",
       "  color: #f1f1f1;\n",
       "}\n",
       "#T_0dea8_row6_col1 {\n",
       "  background-color: #5470de;\n",
       "  color: #f1f1f1;\n",
       "}\n",
       "#T_0dea8_row6_col4 {\n",
       "  background-color: #89acfd;\n",
       "  color: #000000;\n",
       "}\n",
       "#T_0dea8_row6_col5 {\n",
       "  background-color: #6282ea;\n",
       "  color: #f1f1f1;\n",
       "}\n",
       "#T_0dea8_row6_col7 {\n",
       "  background-color: #6384eb;\n",
       "  color: #f1f1f1;\n",
       "}\n",
       "#T_0dea8_row7_col0 {\n",
       "  background-color: #efcfbf;\n",
       "  color: #000000;\n",
       "}\n",
       "#T_0dea8_row7_col1 {\n",
       "  background-color: #81a4fb;\n",
       "  color: #f1f1f1;\n",
       "}\n",
       "#T_0dea8_row7_col5 {\n",
       "  background-color: #3f53c6;\n",
       "  color: #f1f1f1;\n",
       "}\n",
       "#T_0dea8_row7_col8 {\n",
       "  background-color: #7699f6;\n",
       "  color: #f1f1f1;\n",
       "}\n",
       "#T_0dea8_row8_col0, #T_0dea8_row8_col5 {\n",
       "  background-color: #97b8ff;\n",
       "  color: #000000;\n",
       "}\n",
       "#T_0dea8_row8_col1 {\n",
       "  background-color: #cbd8ee;\n",
       "  color: #000000;\n",
       "}\n",
       "#T_0dea8_row8_col2 {\n",
       "  background-color: #4257c9;\n",
       "  color: #f1f1f1;\n",
       "}\n",
       "#T_0dea8_row8_col4 {\n",
       "  background-color: #779af7;\n",
       "  color: #f1f1f1;\n",
       "}\n",
       "#T_0dea8_row8_col6 {\n",
       "  background-color: #7b9ff9;\n",
       "  color: #f1f1f1;\n",
       "}\n",
       "#T_0dea8_row8_col7 {\n",
       "  background-color: #a3c2fe;\n",
       "  color: #000000;\n",
       "}\n",
       "</style>\n",
       "<table id=\"T_0dea8\">\n",
       "  <thead>\n",
       "    <tr>\n",
       "      <th class=\"blank level0\" >&nbsp;</th>\n",
       "      <th id=\"T_0dea8_level0_col0\" class=\"col_heading level0 col0\" >Pregnancies</th>\n",
       "      <th id=\"T_0dea8_level0_col1\" class=\"col_heading level0 col1\" >Glucose</th>\n",
       "      <th id=\"T_0dea8_level0_col2\" class=\"col_heading level0 col2\" >BloodPressure</th>\n",
       "      <th id=\"T_0dea8_level0_col3\" class=\"col_heading level0 col3\" >SkinThickness</th>\n",
       "      <th id=\"T_0dea8_level0_col4\" class=\"col_heading level0 col4\" >Insulin</th>\n",
       "      <th id=\"T_0dea8_level0_col5\" class=\"col_heading level0 col5\" >BMI</th>\n",
       "      <th id=\"T_0dea8_level0_col6\" class=\"col_heading level0 col6\" >DiabetesPedigreeFunction</th>\n",
       "      <th id=\"T_0dea8_level0_col7\" class=\"col_heading level0 col7\" >Age</th>\n",
       "      <th id=\"T_0dea8_level0_col8\" class=\"col_heading level0 col8\" >Outcome</th>\n",
       "    </tr>\n",
       "  </thead>\n",
       "  <tbody>\n",
       "    <tr>\n",
       "      <th id=\"T_0dea8_level0_row0\" class=\"row_heading level0 row0\" >Pregnancies</th>\n",
       "      <td id=\"T_0dea8_row0_col0\" class=\"data row0 col0\" >1.000000</td>\n",
       "      <td id=\"T_0dea8_row0_col1\" class=\"data row0 col1\" >0.129459</td>\n",
       "      <td id=\"T_0dea8_row0_col2\" class=\"data row0 col2\" >0.141282</td>\n",
       "      <td id=\"T_0dea8_row0_col3\" class=\"data row0 col3\" >-0.081672</td>\n",
       "      <td id=\"T_0dea8_row0_col4\" class=\"data row0 col4\" >-0.073535</td>\n",
       "      <td id=\"T_0dea8_row0_col5\" class=\"data row0 col5\" >0.017683</td>\n",
       "      <td id=\"T_0dea8_row0_col6\" class=\"data row0 col6\" >-0.033523</td>\n",
       "      <td id=\"T_0dea8_row0_col7\" class=\"data row0 col7\" >0.544341</td>\n",
       "      <td id=\"T_0dea8_row0_col8\" class=\"data row0 col8\" >0.221898</td>\n",
       "    </tr>\n",
       "    <tr>\n",
       "      <th id=\"T_0dea8_level0_row1\" class=\"row_heading level0 row1\" >Glucose</th>\n",
       "      <td id=\"T_0dea8_row1_col0\" class=\"data row1 col0\" >0.129459</td>\n",
       "      <td id=\"T_0dea8_row1_col1\" class=\"data row1 col1\" >1.000000</td>\n",
       "      <td id=\"T_0dea8_row1_col2\" class=\"data row1 col2\" >0.152590</td>\n",
       "      <td id=\"T_0dea8_row1_col3\" class=\"data row1 col3\" >0.057328</td>\n",
       "      <td id=\"T_0dea8_row1_col4\" class=\"data row1 col4\" >0.331357</td>\n",
       "      <td id=\"T_0dea8_row1_col5\" class=\"data row1 col5\" >0.221071</td>\n",
       "      <td id=\"T_0dea8_row1_col6\" class=\"data row1 col6\" >0.137337</td>\n",
       "      <td id=\"T_0dea8_row1_col7\" class=\"data row1 col7\" >0.263514</td>\n",
       "      <td id=\"T_0dea8_row1_col8\" class=\"data row1 col8\" >0.466581</td>\n",
       "    </tr>\n",
       "    <tr>\n",
       "      <th id=\"T_0dea8_level0_row2\" class=\"row_heading level0 row2\" >BloodPressure</th>\n",
       "      <td id=\"T_0dea8_row2_col0\" class=\"data row2 col0\" >0.141282</td>\n",
       "      <td id=\"T_0dea8_row2_col1\" class=\"data row2 col1\" >0.152590</td>\n",
       "      <td id=\"T_0dea8_row2_col2\" class=\"data row2 col2\" >1.000000</td>\n",
       "      <td id=\"T_0dea8_row2_col3\" class=\"data row2 col3\" >0.207371</td>\n",
       "      <td id=\"T_0dea8_row2_col4\" class=\"data row2 col4\" >0.088933</td>\n",
       "      <td id=\"T_0dea8_row2_col5\" class=\"data row2 col5\" >0.281805</td>\n",
       "      <td id=\"T_0dea8_row2_col6\" class=\"data row2 col6\" >0.041265</td>\n",
       "      <td id=\"T_0dea8_row2_col7\" class=\"data row2 col7\" >0.239528</td>\n",
       "      <td id=\"T_0dea8_row2_col8\" class=\"data row2 col8\" >0.065068</td>\n",
       "    </tr>\n",
       "    <tr>\n",
       "      <th id=\"T_0dea8_level0_row3\" class=\"row_heading level0 row3\" >SkinThickness</th>\n",
       "      <td id=\"T_0dea8_row3_col0\" class=\"data row3 col0\" >-0.081672</td>\n",
       "      <td id=\"T_0dea8_row3_col1\" class=\"data row3 col1\" >0.057328</td>\n",
       "      <td id=\"T_0dea8_row3_col2\" class=\"data row3 col2\" >0.207371</td>\n",
       "      <td id=\"T_0dea8_row3_col3\" class=\"data row3 col3\" >1.000000</td>\n",
       "      <td id=\"T_0dea8_row3_col4\" class=\"data row3 col4\" >0.436783</td>\n",
       "      <td id=\"T_0dea8_row3_col5\" class=\"data row3 col5\" >0.392573</td>\n",
       "      <td id=\"T_0dea8_row3_col6\" class=\"data row3 col6\" >0.183928</td>\n",
       "      <td id=\"T_0dea8_row3_col7\" class=\"data row3 col7\" >-0.113970</td>\n",
       "      <td id=\"T_0dea8_row3_col8\" class=\"data row3 col8\" >0.074752</td>\n",
       "    </tr>\n",
       "    <tr>\n",
       "      <th id=\"T_0dea8_level0_row4\" class=\"row_heading level0 row4\" >Insulin</th>\n",
       "      <td id=\"T_0dea8_row4_col0\" class=\"data row4 col0\" >-0.073535</td>\n",
       "      <td id=\"T_0dea8_row4_col1\" class=\"data row4 col1\" >0.331357</td>\n",
       "      <td id=\"T_0dea8_row4_col2\" class=\"data row4 col2\" >0.088933</td>\n",
       "      <td id=\"T_0dea8_row4_col3\" class=\"data row4 col3\" >0.436783</td>\n",
       "      <td id=\"T_0dea8_row4_col4\" class=\"data row4 col4\" >1.000000</td>\n",
       "      <td id=\"T_0dea8_row4_col5\" class=\"data row4 col5\" >0.197859</td>\n",
       "      <td id=\"T_0dea8_row4_col6\" class=\"data row4 col6\" >0.185071</td>\n",
       "      <td id=\"T_0dea8_row4_col7\" class=\"data row4 col7\" >-0.042163</td>\n",
       "      <td id=\"T_0dea8_row4_col8\" class=\"data row4 col8\" >0.130548</td>\n",
       "    </tr>\n",
       "    <tr>\n",
       "      <th id=\"T_0dea8_level0_row5\" class=\"row_heading level0 row5\" >BMI</th>\n",
       "      <td id=\"T_0dea8_row5_col0\" class=\"data row5 col0\" >0.017683</td>\n",
       "      <td id=\"T_0dea8_row5_col1\" class=\"data row5 col1\" >0.221071</td>\n",
       "      <td id=\"T_0dea8_row5_col2\" class=\"data row5 col2\" >0.281805</td>\n",
       "      <td id=\"T_0dea8_row5_col3\" class=\"data row5 col3\" >0.392573</td>\n",
       "      <td id=\"T_0dea8_row5_col4\" class=\"data row5 col4\" >0.197859</td>\n",
       "      <td id=\"T_0dea8_row5_col5\" class=\"data row5 col5\" >1.000000</td>\n",
       "      <td id=\"T_0dea8_row5_col6\" class=\"data row5 col6\" >0.140647</td>\n",
       "      <td id=\"T_0dea8_row5_col7\" class=\"data row5 col7\" >0.036242</td>\n",
       "      <td id=\"T_0dea8_row5_col8\" class=\"data row5 col8\" >0.292695</td>\n",
       "    </tr>\n",
       "    <tr>\n",
       "      <th id=\"T_0dea8_level0_row6\" class=\"row_heading level0 row6\" >DiabetesPedigreeFunction</th>\n",
       "      <td id=\"T_0dea8_row6_col0\" class=\"data row6 col0\" >-0.033523</td>\n",
       "      <td id=\"T_0dea8_row6_col1\" class=\"data row6 col1\" >0.137337</td>\n",
       "      <td id=\"T_0dea8_row6_col2\" class=\"data row6 col2\" >0.041265</td>\n",
       "      <td id=\"T_0dea8_row6_col3\" class=\"data row6 col3\" >0.183928</td>\n",
       "      <td id=\"T_0dea8_row6_col4\" class=\"data row6 col4\" >0.185071</td>\n",
       "      <td id=\"T_0dea8_row6_col5\" class=\"data row6 col5\" >0.140647</td>\n",
       "      <td id=\"T_0dea8_row6_col6\" class=\"data row6 col6\" >1.000000</td>\n",
       "      <td id=\"T_0dea8_row6_col7\" class=\"data row6 col7\" >0.033561</td>\n",
       "      <td id=\"T_0dea8_row6_col8\" class=\"data row6 col8\" >0.173844</td>\n",
       "    </tr>\n",
       "    <tr>\n",
       "      <th id=\"T_0dea8_level0_row7\" class=\"row_heading level0 row7\" >Age</th>\n",
       "      <td id=\"T_0dea8_row7_col0\" class=\"data row7 col0\" >0.544341</td>\n",
       "      <td id=\"T_0dea8_row7_col1\" class=\"data row7 col1\" >0.263514</td>\n",
       "      <td id=\"T_0dea8_row7_col2\" class=\"data row7 col2\" >0.239528</td>\n",
       "      <td id=\"T_0dea8_row7_col3\" class=\"data row7 col3\" >-0.113970</td>\n",
       "      <td id=\"T_0dea8_row7_col4\" class=\"data row7 col4\" >-0.042163</td>\n",
       "      <td id=\"T_0dea8_row7_col5\" class=\"data row7 col5\" >0.036242</td>\n",
       "      <td id=\"T_0dea8_row7_col6\" class=\"data row7 col6\" >0.033561</td>\n",
       "      <td id=\"T_0dea8_row7_col7\" class=\"data row7 col7\" >1.000000</td>\n",
       "      <td id=\"T_0dea8_row7_col8\" class=\"data row7 col8\" >0.238356</td>\n",
       "    </tr>\n",
       "    <tr>\n",
       "      <th id=\"T_0dea8_level0_row8\" class=\"row_heading level0 row8\" >Outcome</th>\n",
       "      <td id=\"T_0dea8_row8_col0\" class=\"data row8 col0\" >0.221898</td>\n",
       "      <td id=\"T_0dea8_row8_col1\" class=\"data row8 col1\" >0.466581</td>\n",
       "      <td id=\"T_0dea8_row8_col2\" class=\"data row8 col2\" >0.065068</td>\n",
       "      <td id=\"T_0dea8_row8_col3\" class=\"data row8 col3\" >0.074752</td>\n",
       "      <td id=\"T_0dea8_row8_col4\" class=\"data row8 col4\" >0.130548</td>\n",
       "      <td id=\"T_0dea8_row8_col5\" class=\"data row8 col5\" >0.292695</td>\n",
       "      <td id=\"T_0dea8_row8_col6\" class=\"data row8 col6\" >0.173844</td>\n",
       "      <td id=\"T_0dea8_row8_col7\" class=\"data row8 col7\" >0.238356</td>\n",
       "      <td id=\"T_0dea8_row8_col8\" class=\"data row8 col8\" >1.000000</td>\n",
       "    </tr>\n",
       "  </tbody>\n",
       "</table>\n"
      ],
      "text/plain": [
       "<pandas.io.formats.style.Styler at 0x21cd39addf0>"
      ]
     },
     "execution_count": 44,
     "metadata": {},
     "output_type": "execute_result"
    }
   ],
   "source": [
    "corr = Train_Data.corr()\n",
    "corr.style.background_gradient(cmap = 'coolwarm')"
   ]
  },
  {
   "cell_type": "markdown",
   "metadata": {},
   "source": [
    "# Rede neural"
   ]
  },
  {
   "cell_type": "code",
   "execution_count": 45,
   "metadata": {},
   "outputs": [],
   "source": [
    "from sklearn.neural_network import MLPClassifier"
   ]
  },
  {
   "cell_type": "markdown",
   "metadata": {},
   "source": [
    "## Dividir atributos e saída"
   ]
  },
  {
   "cell_type": "code",
   "execution_count": 46,
   "metadata": {},
   "outputs": [
    {
     "data": {
      "text/html": [
       "<div>\n",
       "<style scoped>\n",
       "    .dataframe tbody tr th:only-of-type {\n",
       "        vertical-align: middle;\n",
       "    }\n",
       "\n",
       "    .dataframe tbody tr th {\n",
       "        vertical-align: top;\n",
       "    }\n",
       "\n",
       "    .dataframe thead th {\n",
       "        text-align: right;\n",
       "    }\n",
       "</style>\n",
       "<table border=\"1\" class=\"dataframe\">\n",
       "  <thead>\n",
       "    <tr style=\"text-align: right;\">\n",
       "      <th></th>\n",
       "      <th>Pregnancies</th>\n",
       "      <th>Glucose</th>\n",
       "      <th>BloodPressure</th>\n",
       "      <th>SkinThickness</th>\n",
       "      <th>Insulin</th>\n",
       "      <th>BMI</th>\n",
       "      <th>DiabetesPedigreeFunction</th>\n",
       "      <th>Age</th>\n",
       "    </tr>\n",
       "  </thead>\n",
       "  <tbody>\n",
       "    <tr>\n",
       "      <th>0</th>\n",
       "      <td>6</td>\n",
       "      <td>148</td>\n",
       "      <td>72</td>\n",
       "      <td>35</td>\n",
       "      <td>0</td>\n",
       "      <td>33.6</td>\n",
       "      <td>0.627</td>\n",
       "      <td>50</td>\n",
       "    </tr>\n",
       "    <tr>\n",
       "      <th>1</th>\n",
       "      <td>1</td>\n",
       "      <td>85</td>\n",
       "      <td>66</td>\n",
       "      <td>29</td>\n",
       "      <td>0</td>\n",
       "      <td>26.6</td>\n",
       "      <td>0.351</td>\n",
       "      <td>31</td>\n",
       "    </tr>\n",
       "    <tr>\n",
       "      <th>2</th>\n",
       "      <td>8</td>\n",
       "      <td>183</td>\n",
       "      <td>64</td>\n",
       "      <td>0</td>\n",
       "      <td>0</td>\n",
       "      <td>23.3</td>\n",
       "      <td>0.672</td>\n",
       "      <td>32</td>\n",
       "    </tr>\n",
       "    <tr>\n",
       "      <th>3</th>\n",
       "      <td>1</td>\n",
       "      <td>89</td>\n",
       "      <td>66</td>\n",
       "      <td>23</td>\n",
       "      <td>94</td>\n",
       "      <td>28.1</td>\n",
       "      <td>0.167</td>\n",
       "      <td>21</td>\n",
       "    </tr>\n",
       "    <tr>\n",
       "      <th>4</th>\n",
       "      <td>0</td>\n",
       "      <td>137</td>\n",
       "      <td>40</td>\n",
       "      <td>35</td>\n",
       "      <td>168</td>\n",
       "      <td>43.1</td>\n",
       "      <td>2.288</td>\n",
       "      <td>33</td>\n",
       "    </tr>\n",
       "  </tbody>\n",
       "</table>\n",
       "</div>"
      ],
      "text/plain": [
       "   Pregnancies  Glucose  BloodPressure  SkinThickness  Insulin   BMI  \\\n",
       "0            6      148             72             35        0  33.6   \n",
       "1            1       85             66             29        0  26.6   \n",
       "2            8      183             64              0        0  23.3   \n",
       "3            1       89             66             23       94  28.1   \n",
       "4            0      137             40             35      168  43.1   \n",
       "\n",
       "   DiabetesPedigreeFunction  Age  \n",
       "0                     0.627   50  \n",
       "1                     0.351   31  \n",
       "2                     0.672   32  \n",
       "3                     0.167   21  \n",
       "4                     2.288   33  "
      ]
     },
     "execution_count": 46,
     "metadata": {},
     "output_type": "execute_result"
    }
   ],
   "source": [
    "X=Train_Data[Train_Data.columns[Train_Data.columns!='Outcome']]\n",
    "X.head()"
   ]
  },
  {
   "cell_type": "code",
   "execution_count": 47,
   "metadata": {},
   "outputs": [],
   "source": [
    "Y=Train_Data['Outcome']"
   ]
  },
  {
   "cell_type": "markdown",
   "metadata": {},
   "source": [
    "## Dividir treinamento e teste"
   ]
  },
  {
   "cell_type": "code",
   "execution_count": 48,
   "metadata": {},
   "outputs": [
    {
     "name": "stdout",
     "output_type": "stream",
     "text": [
      "(614,) (154,)\n"
     ]
    }
   ],
   "source": [
    "train_x, test_x, train_y,test_y=train_test_split(X,Y,random_state=0,test_size=0.2)\n",
    "print(train_y.shape, test_y.shape)"
   ]
  },
  {
   "cell_type": "markdown",
   "metadata": {},
   "source": [
    "## Rede neural multicamadas sklearn"
   ]
  },
  {
   "cell_type": "code",
   "execution_count": 49,
   "metadata": {},
   "outputs": [],
   "source": [
    "def MLP(train_x, train_y, test_x, test_y, n_neurons):\n",
    "    reg = MLPClassifier(hidden_layer_sizes=(n_neurons,n_neurons,n_neurons), activation=\"relu\" ,random_state=1, max_iter=200).fit(train_x, train_y)\n",
    "    y_pred=reg.predict(test_x)\n",
    "\n",
    "    model_accuracy = round(accuracy_score(test_y, y_pred),2)\n",
    "    #confusion matrix\n",
    "    cm = confusion_matrix(test_y, y_pred)\n",
    "    return model_accuracy,cm, y_pred"
   ]
  },
  {
   "cell_type": "code",
   "execution_count": 50,
   "metadata": {},
   "outputs": [
    {
     "name": "stdout",
     "output_type": "stream",
     "text": [
      "Model Accuracy:0.71\n",
      "Confusion Matrix:\n",
      "[[88 19]\n",
      " [25 22]]\n"
     ]
    }
   ],
   "source": [
    "accuracy,conf_marix,y_pred = MLP(train_x, train_y, test_x, test_y, 512)\n",
    "print(\"Model Accuracy:\" + str(accuracy) + \"\\n\" + \"Confusion Matrix:\\n\" + str(conf_marix))"
   ]
  },
  {
   "cell_type": "code",
   "execution_count": 51,
   "metadata": {},
   "outputs": [],
   "source": [
    "from imblearn.over_sampling import SMOTE\n",
    "\n",
    "smote = SMOTE(random_state=42)\n",
    "X_train_resampled, y_train_resampled = smote.fit_resample(train_x, train_y)\n",
    "X_test_resampled, y_test_resampled = smote.fit_resample(test_x, test_y)\n"
   ]
  },
  {
   "cell_type": "code",
   "execution_count": 52,
   "metadata": {},
   "outputs": [
    {
     "name": "stdout",
     "output_type": "stream",
     "text": [
      "Model Accuracy:0.72\n",
      "Confusion Matrix:\n",
      "[[75 32]\n",
      " [28 79]]\n"
     ]
    }
   ],
   "source": [
    "accuracy,conf_marix,y_pred = MLP(X_train_resampled, y_train_resampled, X_test_resampled, y_test_resampled, 512)\n",
    "print(\"Model Accuracy:\" + str(accuracy) + \"\\n\" + \"Confusion Matrix:\\n\" + str(conf_marix))"
   ]
  },
  {
   "cell_type": "code",
   "execution_count": 53,
   "metadata": {},
   "outputs": [
    {
     "name": "stdout",
     "output_type": "stream",
     "text": [
      "Model Accuracy:0.82\n",
      "Confusion Matrix:\n",
      "[[40 15]\n",
      " [ 9 73]]\n"
     ]
    }
   ],
   "source": [
    "from imblearn.combine import SMOTEENN\n",
    "\n",
    "smoteenn = SMOTEENN(random_state=42)\n",
    "X_train_resampled, y_train_resampled = smoteenn.fit_resample(train_x, train_y)\n",
    "X_test_resampled, y_test_resampled = smoteenn.fit_resample(test_x, test_y)\n",
    "\n",
    "\n",
    "accuracy,conf_marix,y_pred = MLP(X_train_resampled, y_train_resampled, X_test_resampled, y_test_resampled, 512)\n",
    "print(\"Model Accuracy:\" + str(accuracy) + \"\\n\" + \"Confusion Matrix:\\n\" + str(conf_marix))"
   ]
  },
  {
   "cell_type": "markdown",
   "metadata": {},
   "source": [
    "## Rede neural multicamadas keras"
   ]
  },
  {
   "cell_type": "code",
   "execution_count": 54,
   "metadata": {},
   "outputs": [
    {
     "data": {
      "text/plain": [
       "(614, 8)"
      ]
     },
     "execution_count": 54,
     "metadata": {},
     "output_type": "execute_result"
    }
   ],
   "source": [
    "train_x.shape"
   ]
  },
  {
   "cell_type": "code",
   "execution_count": 55,
   "metadata": {},
   "outputs": [],
   "source": [
    "def NN(train_x, train_y, test_x, test_y, n_neurons):\n",
    "    \n",
    "    tf.random.set_seed(2)\n",
    "    \n",
    "    new_train_x, x_val, new_train_y, y_val = train_test_split(train_x, train_y, test_size = 0.2, random_state = 13)\n",
    "\n",
    "\n",
    "    NN_model = keras.Sequential([\n",
    "    keras.layers.Dense(n_neurons, activation='relu', input_shape=(None, 614, 8)),\n",
    "    keras.layers.Dense(n_neurons, activation='relu'),\n",
    "    keras.layers.Dense(n_neurons, activation='relu'),\n",
    "    keras.layers.Dense(1, activation='sigmoid')\n",
    "    ])\n",
    "    \n",
    "    NN_model.compile(\n",
    "    loss='binary_crossentropy',\n",
    "    optimizer='adamax',\n",
    "    metrics=['accuracy']\n",
    "    )\n",
    "    \n",
    "    \n",
    "    train_history = NN_model.fit(\n",
    "    new_train_x, new_train_y,\n",
    "    validation_data=(x_val, y_val),\n",
    "    batch_size = 8,\n",
    "    shuffle=True,\n",
    "    epochs = 30,\n",
    "    verbose = 0\n",
    "    )\n",
    "    \n",
    "    pred_es = NN_model.predict(test_x)\n",
    "    pred_novo = [np.round(i[0]) for i in pred_es]\n",
    "    results = NN_model.evaluate(test_x, test_y)\n",
    "    accuracy = accuracy_score(test_y, pred_novo)\n",
    "    cm = confusion_matrix(test_y, pred_novo)\n",
    "\n",
    "    return results, accuracy, cm, train_history, pred_es"
   ]
  },
  {
   "cell_type": "code",
   "execution_count": 56,
   "metadata": {
    "scrolled": true
   },
   "outputs": [
    {
     "name": "stdout",
     "output_type": "stream",
     "text": [
      "WARNING:tensorflow:Model was constructed with shape (None, None, 614, 8) for input KerasTensor(type_spec=TensorSpec(shape=(None, None, 614, 8), dtype=tf.float32, name='dense_8_input'), name='dense_8_input', description=\"created by layer 'dense_8_input'\"), but it was called on an input with incompatible shape (None, 8).\n",
      "WARNING:tensorflow:Model was constructed with shape (None, None, 614, 8) for input KerasTensor(type_spec=TensorSpec(shape=(None, None, 614, 8), dtype=tf.float32, name='dense_8_input'), name='dense_8_input', description=\"created by layer 'dense_8_input'\"), but it was called on an input with incompatible shape (None, 8).\n",
      "WARNING:tensorflow:Model was constructed with shape (None, None, 614, 8) for input KerasTensor(type_spec=TensorSpec(shape=(None, None, 614, 8), dtype=tf.float32, name='dense_8_input'), name='dense_8_input', description=\"created by layer 'dense_8_input'\"), but it was called on an input with incompatible shape (None, 8).\n",
      "WARNING:tensorflow:Model was constructed with shape (None, None, 614, 8) for input KerasTensor(type_spec=TensorSpec(shape=(None, None, 614, 8), dtype=tf.float32, name='dense_8_input'), name='dense_8_input', description=\"created by layer 'dense_8_input'\"), but it was called on an input with incompatible shape (None, 8).\n",
      "5/5 [==============================] - 0s 3ms/step\n",
      "5/5 [==============================] - 0s 4ms/step - loss: 0.5752 - accuracy: 0.8321\n",
      "\n",
      "Model Accuracy:0.83\n",
      "\n",
      "Model Accuracy:0.83\n",
      "\n",
      "Confusion Marix:\n",
      "[[41 14]\n",
      " [ 9 73]]\n"
     ]
    }
   ],
   "source": [
    "results, accuracy, cm, train_history, pred_es = NN(X_train_resampled, y_train_resampled, X_test_resampled, y_test_resampled, 512)\n",
    "print(\"\\nModel Accuracy:\" + str(round(results[1], 2)))\n",
    "print(\"\\nModel Accuracy:\" + str(round(accuracy, 2)))\n",
    "print(\"\\nConfusion Marix:\\n\" + str(cm))"
   ]
  },
  {
   "cell_type": "markdown",
   "metadata": {},
   "source": [
    "# Normalizando os dados"
   ]
  },
  {
   "cell_type": "code",
   "execution_count": 57,
   "metadata": {},
   "outputs": [],
   "source": [
    "scaler = StandardScaler()\n",
    "X_train_scaled = scaler.fit_transform(X_train_resampled)\n",
    "X_test_scaled = scaler.fit_transform(X_test_resampled)"
   ]
  },
  {
   "cell_type": "markdown",
   "metadata": {},
   "source": [
    "# Visualizando normalização"
   ]
  },
  {
   "cell_type": "code",
   "execution_count": 58,
   "metadata": {},
   "outputs": [
    {
     "name": "stderr",
     "output_type": "stream",
     "text": [
      "c:\\Users\\talmeidar\\Anaconda3\\lib\\site-packages\\seaborn\\distributions.py:2619: FutureWarning: `distplot` is a deprecated function and will be removed in a future version. Please adapt your code to use either `displot` (a figure-level function with similar flexibility) or `histplot` (an axes-level function for histograms).\n",
      "  warnings.warn(msg, FutureWarning)\n",
      "c:\\Users\\talmeidar\\Anaconda3\\lib\\site-packages\\seaborn\\distributions.py:2619: FutureWarning: `distplot` is a deprecated function and will be removed in a future version. Please adapt your code to use either `displot` (a figure-level function with similar flexibility) or `histplot` (an axes-level function for histograms).\n",
      "  warnings.warn(msg, FutureWarning)\n",
      "c:\\Users\\talmeidar\\Anaconda3\\lib\\site-packages\\seaborn\\distributions.py:2619: FutureWarning: `distplot` is a deprecated function and will be removed in a future version. Please adapt your code to use either `displot` (a figure-level function with similar flexibility) or `histplot` (an axes-level function for histograms).\n",
      "  warnings.warn(msg, FutureWarning)\n"
     ]
    },
    {
     "data": {
      "image/png": "[encoded data removed]",
      "text/plain": [
       "<Figure size 1080x360 with 3 Axes>"
      ]
     },
     "metadata": {
      "needs_background": "light"
     },
     "output_type": "display_data"
    }
   ],
   "source": [
    "fig, ax = plt.subplots(ncols=3, figsize=(15,5))\n",
    "sns.distplot(np.concatenate(X.values), ax=ax[0]).set_title('Original Data')\n",
    "sns.distplot(np.concatenate(X_train_scaled), ax=ax[1]).set_title('Train Scaled Data')\n",
    "sns.distplot(np.concatenate(X_test_scaled), ax=ax[2]).set_title('Test Scaled Data')\n",
    "plt.tight_layout\n",
    "plt.show()"
   ]
  },
  {
   "cell_type": "markdown",
   "metadata": {},
   "source": [
    "# Redes neurais"
   ]
  },
  {
   "cell_type": "code",
   "execution_count": 59,
   "metadata": {},
   "outputs": [
    {
     "data": {
      "text/plain": [
       "(614,)"
      ]
     },
     "execution_count": 59,
     "metadata": {},
     "output_type": "execute_result"
    }
   ],
   "source": [
    "train_y.shape"
   ]
  },
  {
   "cell_type": "code",
   "execution_count": 60,
   "metadata": {},
   "outputs": [
    {
     "name": "stdout",
     "output_type": "stream",
     "text": [
      "Model Accuracy:0.84\n",
      "Confusion Matrix:\n",
      "[[49  6]\n",
      " [16 66]]\n"
     ]
    }
   ],
   "source": [
    "accuracy,conf_marix,y_pred = MLP(X_train_scaled, y_train_resampled, X_test_scaled ,y_test_resampled,64)\n",
    "print(\"Model Accuracy:\" + str(accuracy) + \"\\n\" + \"Confusion Matrix:\\n\" + str(conf_marix))"
   ]
  },
  {
   "cell_type": "code",
   "execution_count": 61,
   "metadata": {},
   "outputs": [
    {
     "name": "stdout",
     "output_type": "stream",
     "text": [
      "WARNING:tensorflow:Model was constructed with shape (None, None, 614, 8) for input KerasTensor(type_spec=TensorSpec(shape=(None, None, 614, 8), dtype=tf.float32, name='dense_12_input'), name='dense_12_input', description=\"created by layer 'dense_12_input'\"), but it was called on an input with incompatible shape (None, 8).\n",
      "WARNING:tensorflow:Model was constructed with shape (None, None, 614, 8) for input KerasTensor(type_spec=TensorSpec(shape=(None, None, 614, 8), dtype=tf.float32, name='dense_12_input'), name='dense_12_input', description=\"created by layer 'dense_12_input'\"), but it was called on an input with incompatible shape (None, 8).\n",
      "WARNING:tensorflow:Model was constructed with shape (None, None, 614, 8) for input KerasTensor(type_spec=TensorSpec(shape=(None, None, 614, 8), dtype=tf.float32, name='dense_12_input'), name='dense_12_input', description=\"created by layer 'dense_12_input'\"), but it was called on an input with incompatible shape (None, 8).\n",
      "WARNING:tensorflow:Model was constructed with shape (None, None, 614, 8) for input KerasTensor(type_spec=TensorSpec(shape=(None, None, 614, 8), dtype=tf.float32, name='dense_12_input'), name='dense_12_input', description=\"created by layer 'dense_12_input'\"), but it was called on an input with incompatible shape (None, 8).\n",
      "5/5 [==============================] - 0s 2ms/step\n",
      "5/5 [==============================] - 0s 2ms/step - loss: 0.2706 - accuracy: 0.8905\n",
      "\n",
      "Model Accuracy:0.89\n",
      "\n",
      "Model Accuracy:0.89\n",
      "\n",
      "Confusion Marix:\n",
      "[[48  7]\n",
      " [ 8 74]]\n"
     ]
    }
   ],
   "source": [
    "results, accuracy, cm, train_history, pred_es  = NN(X_train_scaled, y_train_resampled, X_test_scaled ,y_test_resampled,64)\n",
    "print(\"\\nModel Accuracy:\" + str(round(results[1], 2)))\n",
    "print(\"\\nModel Accuracy:\" + str(round(accuracy, 2)))\n",
    "print(\"\\nConfusion Marix:\\n\" + str(cm))"
   ]
  }
 ],
 "metadata": {
  "kernelspec": {
   "display_name": "Python 3",
   "language": "python",
   "name": "python3"
  },
  "language_info": {
   "codemirror_mode": {
    "name": "ipython",
    "version": 3
   },
   "file_extension": ".py",
   "mimetype": "text/x-python",
   "name": "python",
   "nbconvert_exporter": "python",
   "pygments_lexer": "ipython3",
   "version": "3.9.7"
  }
 },
 "nbformat": 4,
 "nbformat_minor": 4
}
