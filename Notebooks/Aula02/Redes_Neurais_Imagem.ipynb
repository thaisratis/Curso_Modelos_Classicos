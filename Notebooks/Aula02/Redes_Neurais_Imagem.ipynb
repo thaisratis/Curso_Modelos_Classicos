{
 "cells": [
  {
   "cell_type": "code",
   "execution_count": 41,
   "id": "849d3482",
   "metadata": {},
   "outputs": [],
   "source": [
    "from tensorflow import keras\n",
    "import matplotlib.pyplot as plt\n",
    "import numpy as np\n",
    "from sklearn.preprocessing import OneHotEncoder"
   ]
  },
  {
   "cell_type": "markdown",
   "id": "144ca55e",
   "metadata": {},
   "source": [
    "# Classificação"
   ]
  },
  {
   "cell_type": "markdown",
   "id": "ca61a45a",
   "metadata": {},
   "source": [
    "#### 1. Aquisição dos dados"
   ]
  },
  {
   "cell_type": "code",
   "execution_count": 42,
   "id": "0be97072",
   "metadata": {},
   "outputs": [],
   "source": [
    "(x_train, y_train), (x_test, y_test) = keras.datasets.mnist.load_data()"
   ]
  },
  {
   "cell_type": "code",
   "execution_count": 43,
   "id": "70e60765",
   "metadata": {},
   "outputs": [
    {
     "name": "stdout",
     "output_type": "stream",
     "text": [
      "(60000, 28, 28)\n",
      "(10000, 28, 28)\n",
      "(10000,)\n"
     ]
    }
   ],
   "source": [
    "print(x_train.shape)\n",
    "print(x_test.shape)\n",
    "print(y_test.shape)"
   ]
  },
  {
   "cell_type": "code",
   "execution_count": 44,
   "id": "29f36dcd",
   "metadata": {},
   "outputs": [
    {
     "data": {
      "text/plain": [
       "array([[  0,   0,   0,   0,   0,   0,   0,   0,   0,   0,   0,   0,   0,\n",
       "          0,   0,   0,   0,   0,   0,   0,   0,   0,   0,   0,   0,   0,\n",
       "          0,   0],\n",
       "       [  0,   0,   0,   0,   0,   0,   0,   0,   0,   0,   0,   0,   0,\n",
       "          0,   0,   0,   0,   0,   0,   0,   0,   0,   0,   0,   0,   0,\n",
       "          0,   0],\n",
       "       [  0,   0,   0,   0,   0,   0,   0,   0,   0,   0,   0,   0,   0,\n",
       "          0,   0,   0,   0,   0,   0,   0,   0,   0,   0,   0,   0,   0,\n",
       "          0,   0],\n",
       "       [  0,   0,   0,   0,   0,   0,   0,   0,   0,   0,   0,   0,   0,\n",
       "          0,   0,   0,   0,   0,   0,   0,   0,   0,   0,   0,   0,   0,\n",
       "          0,   0],\n",
       "       [  0,   0,   0,   0,   0,   0,   0,   0,   0,   0,   0,   0,   0,\n",
       "          0,   0,   0,   0,   0,   0,   0,   0,   0,   0,   0,   0,   0,\n",
       "          0,   0],\n",
       "       [  0,   0,   0,   0,   0,   0,   0,   0,   0,   0,   0,   0,   3,\n",
       "         18,  18,  18, 126, 136, 175,  26, 166, 255, 247, 127,   0,   0,\n",
       "          0,   0],\n",
       "       [  0,   0,   0,   0,   0,   0,   0,   0,  30,  36,  94, 154, 170,\n",
       "        253, 253, 253, 253, 253, 225, 172, 253, 242, 195,  64,   0,   0,\n",
       "          0,   0],\n",
       "       [  0,   0,   0,   0,   0,   0,   0,  49, 238, 253, 253, 253, 253,\n",
       "        253, 253, 253, 253, 251,  93,  82,  82,  56,  39,   0,   0,   0,\n",
       "          0,   0],\n",
       "       [  0,   0,   0,   0,   0,   0,   0,  18, 219, 253, 253, 253, 253,\n",
       "        253, 198, 182, 247, 241,   0,   0,   0,   0,   0,   0,   0,   0,\n",
       "          0,   0],\n",
       "       [  0,   0,   0,   0,   0,   0,   0,   0,  80, 156, 107, 253, 253,\n",
       "        205,  11,   0,  43, 154,   0,   0,   0,   0,   0,   0,   0,   0,\n",
       "          0,   0],\n",
       "       [  0,   0,   0,   0,   0,   0,   0,   0,   0,  14,   1, 154, 253,\n",
       "         90,   0,   0,   0,   0,   0,   0,   0,   0,   0,   0,   0,   0,\n",
       "          0,   0],\n",
       "       [  0,   0,   0,   0,   0,   0,   0,   0,   0,   0,   0, 139, 253,\n",
       "        190,   2,   0,   0,   0,   0,   0,   0,   0,   0,   0,   0,   0,\n",
       "          0,   0],\n",
       "       [  0,   0,   0,   0,   0,   0,   0,   0,   0,   0,   0,  11, 190,\n",
       "        253,  70,   0,   0,   0,   0,   0,   0,   0,   0,   0,   0,   0,\n",
       "          0,   0],\n",
       "       [  0,   0,   0,   0,   0,   0,   0,   0,   0,   0,   0,   0,  35,\n",
       "        241, 225, 160, 108,   1,   0,   0,   0,   0,   0,   0,   0,   0,\n",
       "          0,   0],\n",
       "       [  0,   0,   0,   0,   0,   0,   0,   0,   0,   0,   0,   0,   0,\n",
       "         81, 240, 253, 253, 119,  25,   0,   0,   0,   0,   0,   0,   0,\n",
       "          0,   0],\n",
       "       [  0,   0,   0,   0,   0,   0,   0,   0,   0,   0,   0,   0,   0,\n",
       "          0,  45, 186, 253, 253, 150,  27,   0,   0,   0,   0,   0,   0,\n",
       "          0,   0],\n",
       "       [  0,   0,   0,   0,   0,   0,   0,   0,   0,   0,   0,   0,   0,\n",
       "          0,   0,  16,  93, 252, 253, 187,   0,   0,   0,   0,   0,   0,\n",
       "          0,   0],\n",
       "       [  0,   0,   0,   0,   0,   0,   0,   0,   0,   0,   0,   0,   0,\n",
       "          0,   0,   0,   0, 249, 253, 249,  64,   0,   0,   0,   0,   0,\n",
       "          0,   0],\n",
       "       [  0,   0,   0,   0,   0,   0,   0,   0,   0,   0,   0,   0,   0,\n",
       "          0,  46, 130, 183, 253, 253, 207,   2,   0,   0,   0,   0,   0,\n",
       "          0,   0],\n",
       "       [  0,   0,   0,   0,   0,   0,   0,   0,   0,   0,   0,   0,  39,\n",
       "        148, 229, 253, 253, 253, 250, 182,   0,   0,   0,   0,   0,   0,\n",
       "          0,   0],\n",
       "       [  0,   0,   0,   0,   0,   0,   0,   0,   0,   0,  24, 114, 221,\n",
       "        253, 253, 253, 253, 201,  78,   0,   0,   0,   0,   0,   0,   0,\n",
       "          0,   0],\n",
       "       [  0,   0,   0,   0,   0,   0,   0,   0,  23,  66, 213, 253, 253,\n",
       "        253, 253, 198,  81,   2,   0,   0,   0,   0,   0,   0,   0,   0,\n",
       "          0,   0],\n",
       "       [  0,   0,   0,   0,   0,   0,  18, 171, 219, 253, 253, 253, 253,\n",
       "        195,  80,   9,   0,   0,   0,   0,   0,   0,   0,   0,   0,   0,\n",
       "          0,   0],\n",
       "       [  0,   0,   0,   0,  55, 172, 226, 253, 253, 253, 253, 244, 133,\n",
       "         11,   0,   0,   0,   0,   0,   0,   0,   0,   0,   0,   0,   0,\n",
       "          0,   0],\n",
       "       [  0,   0,   0,   0, 136, 253, 253, 253, 212, 135, 132,  16,   0,\n",
       "          0,   0,   0,   0,   0,   0,   0,   0,   0,   0,   0,   0,   0,\n",
       "          0,   0],\n",
       "       [  0,   0,   0,   0,   0,   0,   0,   0,   0,   0,   0,   0,   0,\n",
       "          0,   0,   0,   0,   0,   0,   0,   0,   0,   0,   0,   0,   0,\n",
       "          0,   0],\n",
       "       [  0,   0,   0,   0,   0,   0,   0,   0,   0,   0,   0,   0,   0,\n",
       "          0,   0,   0,   0,   0,   0,   0,   0,   0,   0,   0,   0,   0,\n",
       "          0,   0],\n",
       "       [  0,   0,   0,   0,   0,   0,   0,   0,   0,   0,   0,   0,   0,\n",
       "          0,   0,   0,   0,   0,   0,   0,   0,   0,   0,   0,   0,   0,\n",
       "          0,   0]], dtype=uint8)"
      ]
     },
     "execution_count": 44,
     "metadata": {},
     "output_type": "execute_result"
    }
   ],
   "source": [
    "x_train[0]"
   ]
  },
  {
   "cell_type": "code",
   "execution_count": 45,
   "id": "87348262",
   "metadata": {},
   "outputs": [
    {
     "data": {
      "image/png": "[encoded data removed]",
      "text/plain": [
       "<Figure size 432x288 with 1 Axes>"
      ]
     },
     "metadata": {
      "needs_background": "light"
     },
     "output_type": "display_data"
    }
   ],
   "source": [
    "# Escolhendo uma imagem para plotar\n",
    "sample = 10\n",
    "image = x_train[sample]\n",
    "\n",
    "# Plotando a imagem\n",
    "fig = plt.figure\n",
    "plt.imshow(image, cmap='gray')\n",
    "plt.show()"
   ]
  },
  {
   "cell_type": "markdown",
   "id": "0b3eb79c",
   "metadata": {},
   "source": [
    "#### 2. Pré-processamento"
   ]
  },
  {
   "cell_type": "markdown",
   "id": "d00677a0",
   "metadata": {},
   "source": [
    "#### Normalização"
   ]
  },
  {
   "cell_type": "code",
   "execution_count": 46,
   "id": "4153c957",
   "metadata": {},
   "outputs": [],
   "source": [
    "# Encontra o valor máximo nos dados de treinamento\n",
    "m = np.max(x_train)\n",
    "\n",
    "# Normaliza os dados de treinamento dividindo cada valor pelo valor máximo\n",
    "x_train = x_train / m\n",
    "\n",
    "# Normaliza os dados de teste dividindo cada valor pelo mesmo valor máximo dos dados de treinamento\n",
    "x_test = x_test / m"
   ]
  },
  {
   "cell_type": "code",
   "execution_count": 47,
   "id": "df74984a",
   "metadata": {},
   "outputs": [
    {
     "data": {
      "text/plain": [
       "array([[[0., 0., 0., ..., 0., 0., 0.],\n",
       "        [0., 0., 0., ..., 0., 0., 0.],\n",
       "        [0., 0., 0., ..., 0., 0., 0.],\n",
       "        ...,\n",
       "        [0., 0., 0., ..., 0., 0., 0.],\n",
       "        [0., 0., 0., ..., 0., 0., 0.],\n",
       "        [0., 0., 0., ..., 0., 0., 0.]],\n",
       "\n",
       "       [[0., 0., 0., ..., 0., 0., 0.],\n",
       "        [0., 0., 0., ..., 0., 0., 0.],\n",
       "        [0., 0., 0., ..., 0., 0., 0.],\n",
       "        ...,\n",
       "        [0., 0., 0., ..., 0., 0., 0.],\n",
       "        [0., 0., 0., ..., 0., 0., 0.],\n",
       "        [0., 0., 0., ..., 0., 0., 0.]],\n",
       "\n",
       "       [[0., 0., 0., ..., 0., 0., 0.],\n",
       "        [0., 0., 0., ..., 0., 0., 0.],\n",
       "        [0., 0., 0., ..., 0., 0., 0.],\n",
       "        ...,\n",
       "        [0., 0., 0., ..., 0., 0., 0.],\n",
       "        [0., 0., 0., ..., 0., 0., 0.],\n",
       "        [0., 0., 0., ..., 0., 0., 0.]],\n",
       "\n",
       "       ...,\n",
       "\n",
       "       [[0., 0., 0., ..., 0., 0., 0.],\n",
       "        [0., 0., 0., ..., 0., 0., 0.],\n",
       "        [0., 0., 0., ..., 0., 0., 0.],\n",
       "        ...,\n",
       "        [0., 0., 0., ..., 0., 0., 0.],\n",
       "        [0., 0., 0., ..., 0., 0., 0.],\n",
       "        [0., 0., 0., ..., 0., 0., 0.]],\n",
       "\n",
       "       [[0., 0., 0., ..., 0., 0., 0.],\n",
       "        [0., 0., 0., ..., 0., 0., 0.],\n",
       "        [0., 0., 0., ..., 0., 0., 0.],\n",
       "        ...,\n",
       "        [0., 0., 0., ..., 0., 0., 0.],\n",
       "        [0., 0., 0., ..., 0., 0., 0.],\n",
       "        [0., 0., 0., ..., 0., 0., 0.]],\n",
       "\n",
       "       [[0., 0., 0., ..., 0., 0., 0.],\n",
       "        [0., 0., 0., ..., 0., 0., 0.],\n",
       "        [0., 0., 0., ..., 0., 0., 0.],\n",
       "        ...,\n",
       "        [0., 0., 0., ..., 0., 0., 0.],\n",
       "        [0., 0., 0., ..., 0., 0., 0.],\n",
       "        [0., 0., 0., ..., 0., 0., 0.]]])"
      ]
     },
     "execution_count": 47,
     "metadata": {},
     "output_type": "execute_result"
    }
   ],
   "source": [
    "x_train"
   ]
  },
  {
   "cell_type": "markdown",
   "id": "4e0ccb1f",
   "metadata": {},
   "source": [
    "#### One hot encoder na variável alvo"
   ]
  },
  {
   "cell_type": "code",
   "execution_count": 48,
   "id": "67323164",
   "metadata": {},
   "outputs": [
    {
     "data": {
      "text/plain": [
       "array([5, 0, 4, ..., 5, 6, 8], dtype=uint8)"
      ]
     },
     "execution_count": 48,
     "metadata": {},
     "output_type": "execute_result"
    }
   ],
   "source": [
    "y_train"
   ]
  },
  {
   "cell_type": "code",
   "execution_count": 49,
   "id": "d8c32368",
   "metadata": {},
   "outputs": [],
   "source": [
    "# Cria uma instância do OneHotEncoder para realizar a codificação one-hot\n",
    "hot = OneHotEncoder()\n",
    "\n",
    "# Ajusta o codificador aos rótulos de treinamento (y_train) e transforma os rótulos em uma matriz one-hot\n",
    "# reshape(-1, 1) transforma y_train em uma matriz coluna para o OneHotEncoder\n",
    "# toarray() converte o resultado em um array denso\n",
    "y_train = hot.fit_transform(y_train.reshape(-1, 1)).toarray()\n",
    "\n",
    "# Transforma os rótulos de teste (y_test) usando o codificador ajustado e converte em uma matriz one-hot\n",
    "y_test = hot.transform(y_test.reshape(-1, 1)).toarray()"
   ]
  },
  {
   "cell_type": "code",
   "execution_count": 50,
   "id": "e8739951",
   "metadata": {},
   "outputs": [
    {
     "data": {
      "text/plain": [
       "array([[0., 0., 0., ..., 0., 0., 0.],\n",
       "       [1., 0., 0., ..., 0., 0., 0.],\n",
       "       [0., 0., 0., ..., 0., 0., 0.],\n",
       "       ...,\n",
       "       [0., 0., 0., ..., 0., 0., 0.],\n",
       "       [0., 0., 0., ..., 0., 0., 0.],\n",
       "       [0., 0., 0., ..., 0., 1., 0.]])"
      ]
     },
     "execution_count": 50,
     "metadata": {},
     "output_type": "execute_result"
    }
   ],
   "source": [
    "y_train"
   ]
  },
  {
   "cell_type": "markdown",
   "id": "c03fe70d",
   "metadata": {},
   "source": [
    "#### 3. Particionamento de base de dados"
   ]
  },
  {
   "cell_type": "code",
   "execution_count": 51,
   "id": "89855dbc",
   "metadata": {},
   "outputs": [
    {
     "data": {
      "text/plain": [
       "((48000, 28, 28),\n",
       " (12000, 28, 28),\n",
       " (10000, 28, 28),\n",
       " (48000, 10),\n",
       " (12000, 10),\n",
       " (10000, 10))"
      ]
     },
     "execution_count": 51,
     "metadata": {},
     "output_type": "execute_result"
    }
   ],
   "source": [
    "from sklearn.model_selection import train_test_split\n",
    "\n",
    "x_treino, x_val, y_treino, y_val = train_test_split(x_train, y_train, test_size = 0.2, random_state = 13)\n",
    "\n",
    "x_treino.shape, x_val.shape, x_test.shape, y_treino.shape, y_val.shape, y_test.shape, "
   ]
  },
  {
   "cell_type": "code",
   "execution_count": 52,
   "id": "ccfa6335",
   "metadata": {},
   "outputs": [],
   "source": [
    "from keras.layers import Dense, Activation, Dropout, Flatten\n",
    "from keras.models import Sequential\n",
    "from keras.callbacks import EarlyStopping"
   ]
  },
  {
   "cell_type": "markdown",
   "id": "68e916e7",
   "metadata": {},
   "source": [
    "#### 4. Treinamento - definição de arquitetura\n",
    "1. Definir quantas camadas são necessárias par o problema\n",
    "2. A quantidade de neurônios em cada camada\n",
    "3. A função de ativação de cada camada\n",
    "4. A função de ativação da saída\n",
    "* softmax (saída não binária)\n",
    "* sigmoid (saída binária)"
   ]
  },
  {
   "cell_type": "code",
   "execution_count": 53,
   "id": "48fa0a22",
   "metadata": {},
   "outputs": [
    {
     "data": {
      "text/plain": [
       "(48000, 28, 28)"
      ]
     },
     "execution_count": 53,
     "metadata": {},
     "output_type": "execute_result"
    }
   ],
   "source": [
    "x_treino.shape"
   ]
  },
  {
   "cell_type": "code",
   "execution_count": 54,
   "id": "afa36372",
   "metadata": {},
   "outputs": [
    {
     "data": {
      "text/plain": [
       "784"
      ]
     },
     "execution_count": 54,
     "metadata": {},
     "output_type": "execute_result"
    }
   ],
   "source": [
    "28 * 28"
   ]
  },
  {
   "cell_type": "code",
   "execution_count": 55,
   "id": "3ee9cd6d",
   "metadata": {},
   "outputs": [],
   "source": [
    "# Criação de um modelo sequencial\n",
    "rede_simples = Sequential()\n",
    "\n",
    "# Adiciona uma camada de Flatten para achatar a entrada\n",
    "rede_simples.add(Flatten())\n",
    "\n",
    "# Adiciona uma camada densa (fully connected) com 25 neurônios e dimensão de entrada 784\n",
    "rede_simples.add(Dense(25, input_dim=784))\n",
    "\n",
    "# Adiciona a função de ativação ReLU à camada anterior\n",
    "rede_simples.add(Activation('relu'))\n",
    "\n",
    "# Adiciona outra camada densa com 25 neurônios\n",
    "rede_simples.add(Dense(25))\n",
    "\n",
    "# Adiciona a função de ativação ReLU à camada anterior\n",
    "rede_simples.add(Activation('relu'))\n",
    "\n",
    "# Adiciona mais uma camada densa com 25 neurônios\n",
    "rede_simples.add(Dense(25))\n",
    "\n",
    "# Adiciona a função de ativação ReLU à camada anterior\n",
    "rede_simples.add(Activation('relu'))\n",
    "\n",
    "# Adiciona uma camada densa final com 10 neurônios (correspondente ao número de classes)\n",
    "rede_simples.add(Dense(10))\n",
    "\n",
    "# Adiciona a função de ativação softmax para a camada de saída\n",
    "rede_simples.add(Activation('softmax'))"
   ]
  },
  {
   "cell_type": "markdown",
   "id": "96bc3311",
   "metadata": {},
   "source": [
    "### 5. Definir otimizadores"
   ]
  },
  {
   "cell_type": "code",
   "execution_count": 56,
   "id": "13237757",
   "metadata": {},
   "outputs": [],
   "source": [
    "rede_simples.compile(loss = 'categorical_crossentropy', optimizer = 'Adam', metrics=['accuracy'])"
   ]
  },
  {
   "cell_type": "markdown",
   "id": "381b3f8c",
   "metadata": {},
   "source": [
    "#### 6. Treinamento\n",
    "\n",
    "1. Adicionar conjuntos de treinamento e validação\n",
    "2. Determinar a quantidade de épocas"
   ]
  },
  {
   "cell_type": "code",
   "execution_count": 57,
   "id": "197d2e09",
   "metadata": {},
   "outputs": [
    {
     "name": "stdout",
     "output_type": "stream",
     "text": [
      "Epoch 1/100\n",
      "1500/1500 [==============================] - 4s 3ms/step - loss: 0.4160 - accuracy: 0.8763 - val_loss: 0.2490 - val_accuracy: 0.9239\n",
      "Epoch 2/100\n",
      "1500/1500 [==============================] - 4s 2ms/step - loss: 0.2058 - accuracy: 0.9382 - val_loss: 0.2009 - val_accuracy: 0.9410\n",
      "Epoch 3/100\n",
      "1500/1500 [==============================] - 4s 2ms/step - loss: 0.1672 - accuracy: 0.9502 - val_loss: 0.1721 - val_accuracy: 0.9475\n",
      "Epoch 4/100\n",
      "1500/1500 [==============================] - 3s 2ms/step - loss: 0.1449 - accuracy: 0.9558 - val_loss: 0.1642 - val_accuracy: 0.9536\n",
      "Epoch 5/100\n",
      "1500/1500 [==============================] - 4s 2ms/step - loss: 0.1256 - accuracy: 0.9626 - val_loss: 0.1764 - val_accuracy: 0.9477\n",
      "Epoch 6/100\n",
      "1500/1500 [==============================] - 4s 2ms/step - loss: 0.1157 - accuracy: 0.9639 - val_loss: 0.1552 - val_accuracy: 0.9553\n",
      "Epoch 7/100\n",
      "1500/1500 [==============================] - 4s 2ms/step - loss: 0.1024 - accuracy: 0.9677 - val_loss: 0.1424 - val_accuracy: 0.9588\n",
      "Epoch 8/100\n",
      "1500/1500 [==============================] - 4s 2ms/step - loss: 0.0934 - accuracy: 0.9704 - val_loss: 0.1492 - val_accuracy: 0.9600\n",
      "Epoch 9/100\n",
      "1500/1500 [==============================] - 4s 2ms/step - loss: 0.0869 - accuracy: 0.9722 - val_loss: 0.1438 - val_accuracy: 0.9605\n",
      "Epoch 10/100\n",
      "1500/1500 [==============================] - 4s 2ms/step - loss: 0.0826 - accuracy: 0.9744 - val_loss: 0.1388 - val_accuracy: 0.9610\n",
      "Epoch 11/100\n",
      "1500/1500 [==============================] - 4s 2ms/step - loss: 0.0752 - accuracy: 0.9755 - val_loss: 0.1485 - val_accuracy: 0.9620\n",
      "Epoch 12/100\n",
      "1500/1500 [==============================] - 4s 2ms/step - loss: 0.0725 - accuracy: 0.9767 - val_loss: 0.1447 - val_accuracy: 0.9609\n",
      "Epoch 13/100\n",
      "1500/1500 [==============================] - 4s 3ms/step - loss: 0.0692 - accuracy: 0.9774 - val_loss: 0.1482 - val_accuracy: 0.9592\n",
      "Epoch 14/100\n",
      "1500/1500 [==============================] - 4s 3ms/step - loss: 0.0627 - accuracy: 0.9808 - val_loss: 0.1465 - val_accuracy: 0.9610\n",
      "Epoch 15/100\n",
      "1500/1500 [==============================] - 4s 3ms/step - loss: 0.0602 - accuracy: 0.9804 - val_loss: 0.1574 - val_accuracy: 0.9630\n",
      "Epoch 16/100\n",
      "1500/1500 [==============================] - 4s 3ms/step - loss: 0.0572 - accuracy: 0.9814 - val_loss: 0.1488 - val_accuracy: 0.9616\n",
      "Epoch 17/100\n",
      "1500/1500 [==============================] - 4s 3ms/step - loss: 0.0540 - accuracy: 0.9821 - val_loss: 0.1488 - val_accuracy: 0.9632\n",
      "Epoch 18/100\n",
      "1500/1500 [==============================] - 4s 3ms/step - loss: 0.0499 - accuracy: 0.9831 - val_loss: 0.1623 - val_accuracy: 0.9606\n",
      "Epoch 19/100\n",
      "1500/1500 [==============================] - 4s 3ms/step - loss: 0.0481 - accuracy: 0.9839 - val_loss: 0.1594 - val_accuracy: 0.9592\n",
      "Epoch 20/100\n",
      "1500/1500 [==============================] - 4s 3ms/step - loss: 0.0470 - accuracy: 0.9846 - val_loss: 0.1652 - val_accuracy: 0.9627\n",
      "Epoch 21/100\n",
      "1500/1500 [==============================] - 4s 3ms/step - loss: 0.0451 - accuracy: 0.9854 - val_loss: 0.1563 - val_accuracy: 0.9633\n",
      "Epoch 22/100\n",
      "1500/1500 [==============================] - 4s 2ms/step - loss: 0.0429 - accuracy: 0.9861 - val_loss: 0.1673 - val_accuracy: 0.9631\n",
      "Epoch 23/100\n",
      "1500/1500 [==============================] - 4s 3ms/step - loss: 0.0400 - accuracy: 0.9867 - val_loss: 0.1651 - val_accuracy: 0.9645\n",
      "Epoch 24/100\n",
      "1500/1500 [==============================] - 7s 4ms/step - loss: 0.0389 - accuracy: 0.9874 - val_loss: 0.1722 - val_accuracy: 0.9626\n",
      "Epoch 25/100\n",
      "1500/1500 [==============================] - 7s 4ms/step - loss: 0.0372 - accuracy: 0.9871 - val_loss: 0.1811 - val_accuracy: 0.9628\n",
      "Epoch 26/100\n",
      "1500/1500 [==============================] - 6s 4ms/step - loss: 0.0357 - accuracy: 0.9879 - val_loss: 0.2000 - val_accuracy: 0.9581\n",
      "Epoch 27/100\n",
      "1500/1500 [==============================] - 7s 5ms/step - loss: 0.0358 - accuracy: 0.9878 - val_loss: 0.1744 - val_accuracy: 0.9640\n",
      "Epoch 28/100\n",
      "1500/1500 [==============================] - 6s 4ms/step - loss: 0.0324 - accuracy: 0.9889 - val_loss: 0.1851 - val_accuracy: 0.9619\n",
      "Epoch 29/100\n",
      "1500/1500 [==============================] - 7s 5ms/step - loss: 0.0315 - accuracy: 0.9897 - val_loss: 0.2048 - val_accuracy: 0.9604\n",
      "Epoch 30/100\n",
      "1500/1500 [==============================] - 7s 5ms/step - loss: 0.0320 - accuracy: 0.9886 - val_loss: 0.2180 - val_accuracy: 0.9567\n",
      "Epoch 31/100\n",
      "1500/1500 [==============================] - 6s 4ms/step - loss: 0.0302 - accuracy: 0.9895 - val_loss: 0.2079 - val_accuracy: 0.9575\n",
      "Epoch 32/100\n",
      "1500/1500 [==============================] - 4s 3ms/step - loss: 0.0308 - accuracy: 0.9898 - val_loss: 0.1964 - val_accuracy: 0.9607\n",
      "Epoch 33/100\n",
      "1500/1500 [==============================] - 4s 3ms/step - loss: 0.0299 - accuracy: 0.9900 - val_loss: 0.2240 - val_accuracy: 0.9602\n",
      "Epoch 34/100\n",
      "1500/1500 [==============================] - 4s 3ms/step - loss: 0.0251 - accuracy: 0.9910 - val_loss: 0.2202 - val_accuracy: 0.9618\n",
      "Epoch 35/100\n",
      "1500/1500 [==============================] - 4s 3ms/step - loss: 0.0255 - accuracy: 0.9912 - val_loss: 0.2251 - val_accuracy: 0.9608\n",
      "Epoch 36/100\n",
      "1500/1500 [==============================] - 4s 3ms/step - loss: 0.0282 - accuracy: 0.9906 - val_loss: 0.2293 - val_accuracy: 0.9613\n",
      "Epoch 37/100\n",
      "1500/1500 [==============================] - 4s 3ms/step - loss: 0.0243 - accuracy: 0.9919 - val_loss: 0.2185 - val_accuracy: 0.9626\n",
      "Epoch 38/100\n",
      "1500/1500 [==============================] - 4s 3ms/step - loss: 0.0237 - accuracy: 0.9922 - val_loss: 0.2324 - val_accuracy: 0.9589\n",
      "Epoch 39/100\n",
      "1500/1500 [==============================] - 4s 3ms/step - loss: 0.0229 - accuracy: 0.9921 - val_loss: 0.2314 - val_accuracy: 0.9619\n",
      "Epoch 40/100\n",
      "1500/1500 [==============================] - 5s 3ms/step - loss: 0.0246 - accuracy: 0.9918 - val_loss: 0.2687 - val_accuracy: 0.9576\n",
      "Epoch 41/100\n",
      "1500/1500 [==============================] - 7s 4ms/step - loss: 0.0233 - accuracy: 0.9920 - val_loss: 0.2236 - val_accuracy: 0.9632\n",
      "Epoch 42/100\n",
      "1500/1500 [==============================] - 7s 5ms/step - loss: 0.0219 - accuracy: 0.9926 - val_loss: 0.2424 - val_accuracy: 0.9619\n",
      "Epoch 43/100\n",
      "1500/1500 [==============================] - 8s 5ms/step - loss: 0.0224 - accuracy: 0.9920 - val_loss: 0.2606 - val_accuracy: 0.9608\n",
      "Epoch 44/100\n",
      "1500/1500 [==============================] - 8s 5ms/step - loss: 0.0206 - accuracy: 0.9924 - val_loss: 0.2312 - val_accuracy: 0.9631\n",
      "Epoch 45/100\n",
      "1500/1500 [==============================] - 7s 5ms/step - loss: 0.0194 - accuracy: 0.9932 - val_loss: 0.2627 - val_accuracy: 0.9612\n",
      "Epoch 46/100\n",
      "1500/1500 [==============================] - 8s 5ms/step - loss: 0.0208 - accuracy: 0.9933 - val_loss: 0.2798 - val_accuracy: 0.9604\n",
      "Epoch 47/100\n",
      "1500/1500 [==============================] - 8s 5ms/step - loss: 0.0193 - accuracy: 0.9933 - val_loss: 0.2901 - val_accuracy: 0.9588\n",
      "Epoch 48/100\n",
      "1500/1500 [==============================] - 8s 5ms/step - loss: 0.0211 - accuracy: 0.9927 - val_loss: 0.2491 - val_accuracy: 0.9635\n",
      "Epoch 49/100\n",
      "1500/1500 [==============================] - 8s 5ms/step - loss: 0.0190 - accuracy: 0.9935 - val_loss: 0.2696 - val_accuracy: 0.9634\n",
      "Epoch 50/100\n",
      "1500/1500 [==============================] - 7s 5ms/step - loss: 0.0186 - accuracy: 0.9935 - val_loss: 0.2787 - val_accuracy: 0.9611\n",
      "Epoch 51/100\n",
      "1500/1500 [==============================] - 6s 4ms/step - loss: 0.0197 - accuracy: 0.9936 - val_loss: 0.2851 - val_accuracy: 0.9616\n",
      "Epoch 52/100\n",
      "1500/1500 [==============================] - 4s 3ms/step - loss: 0.0191 - accuracy: 0.9935 - val_loss: 0.2667 - val_accuracy: 0.9630\n",
      "Epoch 53/100\n",
      "1500/1500 [==============================] - 4s 3ms/step - loss: 0.0180 - accuracy: 0.9938 - val_loss: 0.2841 - val_accuracy: 0.9605\n",
      "Epoch 54/100\n",
      "1500/1500 [==============================] - 4s 3ms/step - loss: 0.0177 - accuracy: 0.9936 - val_loss: 0.2673 - val_accuracy: 0.9643\n",
      "Epoch 55/100\n",
      "1500/1500 [==============================] - 4s 3ms/step - loss: 0.0193 - accuracy: 0.9934 - val_loss: 0.2890 - val_accuracy: 0.9615\n",
      "Epoch 56/100\n",
      "1500/1500 [==============================] - 5s 3ms/step - loss: 0.0167 - accuracy: 0.9948 - val_loss: 0.2829 - val_accuracy: 0.9628\n",
      "Epoch 57/100\n",
      "1500/1500 [==============================] - 6s 4ms/step - loss: 0.0187 - accuracy: 0.9938 - val_loss: 0.3023 - val_accuracy: 0.9610\n",
      "Epoch 58/100\n",
      "1500/1500 [==============================] - 6s 4ms/step - loss: 0.0179 - accuracy: 0.9942 - val_loss: 0.2954 - val_accuracy: 0.9614\n",
      "Epoch 59/100\n",
      "1500/1500 [==============================] - 6s 4ms/step - loss: 0.0179 - accuracy: 0.9941 - val_loss: 0.2857 - val_accuracy: 0.9625\n",
      "Epoch 60/100\n",
      "1500/1500 [==============================] - 7s 4ms/step - loss: 0.0143 - accuracy: 0.9951 - val_loss: 0.2973 - val_accuracy: 0.9617\n",
      "Epoch 61/100\n",
      "1500/1500 [==============================] - 7s 4ms/step - loss: 0.0162 - accuracy: 0.9945 - val_loss: 0.3007 - val_accuracy: 0.9610\n",
      "Epoch 62/100\n",
      "1500/1500 [==============================] - 7s 4ms/step - loss: 0.0152 - accuracy: 0.9949 - val_loss: 0.2919 - val_accuracy: 0.9624\n",
      "Epoch 63/100\n",
      "1500/1500 [==============================] - 6s 4ms/step - loss: 0.0178 - accuracy: 0.9944 - val_loss: 0.2902 - val_accuracy: 0.9643\n",
      "Epoch 64/100\n",
      "1500/1500 [==============================] - 7s 4ms/step - loss: 0.0160 - accuracy: 0.9949 - val_loss: 0.3056 - val_accuracy: 0.9622\n",
      "Epoch 65/100\n",
      "1500/1500 [==============================] - 6s 4ms/step - loss: 0.0156 - accuracy: 0.9948 - val_loss: 0.3079 - val_accuracy: 0.9640\n",
      "Epoch 66/100\n",
      "1500/1500 [==============================] - 6s 4ms/step - loss: 0.0145 - accuracy: 0.9950 - val_loss: 0.3133 - val_accuracy: 0.9628\n",
      "Epoch 67/100\n",
      "1500/1500 [==============================] - 6s 4ms/step - loss: 0.0156 - accuracy: 0.9945 - val_loss: 0.3363 - val_accuracy: 0.9596\n",
      "Epoch 68/100\n",
      "1500/1500 [==============================] - 6s 4ms/step - loss: 0.0186 - accuracy: 0.9939 - val_loss: 0.3289 - val_accuracy: 0.9607\n",
      "Epoch 69/100\n",
      "1500/1500 [==============================] - 5s 3ms/step - loss: 0.0164 - accuracy: 0.9947 - val_loss: 0.3093 - val_accuracy: 0.9604\n",
      "Epoch 70/100\n",
      "1500/1500 [==============================] - 5s 3ms/step - loss: 0.0105 - accuracy: 0.9967 - val_loss: 0.3307 - val_accuracy: 0.9594\n",
      "Epoch 71/100\n",
      "1500/1500 [==============================] - 5s 4ms/step - loss: 0.0173 - accuracy: 0.9946 - val_loss: 0.3410 - val_accuracy: 0.9603\n",
      "Epoch 72/100\n",
      "1500/1500 [==============================] - 7s 5ms/step - loss: 0.0145 - accuracy: 0.9950 - val_loss: 0.3382 - val_accuracy: 0.9609\n",
      "Epoch 73/100\n",
      "1500/1500 [==============================] - 7s 4ms/step - loss: 0.0122 - accuracy: 0.9959 - val_loss: 0.3515 - val_accuracy: 0.9617\n",
      "Epoch 74/100\n",
      "1500/1500 [==============================] - 7s 4ms/step - loss: 0.0160 - accuracy: 0.9948 - val_loss: 0.3982 - val_accuracy: 0.9577\n",
      "Epoch 75/100\n",
      "1500/1500 [==============================] - 7s 5ms/step - loss: 0.0143 - accuracy: 0.9951 - val_loss: 0.3264 - val_accuracy: 0.9633\n",
      "Epoch 76/100\n",
      "1500/1500 [==============================] - 6s 4ms/step - loss: 0.0126 - accuracy: 0.9957 - val_loss: 0.3515 - val_accuracy: 0.9601\n",
      "Epoch 77/100\n",
      "1500/1500 [==============================] - 4s 3ms/step - loss: 0.0170 - accuracy: 0.9949 - val_loss: 0.3702 - val_accuracy: 0.9615\n",
      "Epoch 78/100\n",
      "1500/1500 [==============================] - 4s 2ms/step - loss: 0.0147 - accuracy: 0.9955 - val_loss: 0.3639 - val_accuracy: 0.9578\n",
      "Epoch 79/100\n",
      "1500/1500 [==============================] - 7s 5ms/step - loss: 0.0124 - accuracy: 0.9959 - val_loss: 0.3432 - val_accuracy: 0.9615\n",
      "Epoch 80/100\n",
      "1500/1500 [==============================] - 7s 5ms/step - loss: 0.0133 - accuracy: 0.9957 - val_loss: 0.3694 - val_accuracy: 0.9591\n",
      "Epoch 81/100\n",
      "1500/1500 [==============================] - 7s 4ms/step - loss: 0.0125 - accuracy: 0.9959 - val_loss: 0.3381 - val_accuracy: 0.9635\n",
      "Epoch 82/100\n",
      "1500/1500 [==============================] - 6s 4ms/step - loss: 0.0139 - accuracy: 0.9955 - val_loss: 0.3511 - val_accuracy: 0.9631\n",
      "Epoch 83/100\n",
      "1500/1500 [==============================] - 7s 5ms/step - loss: 0.0134 - accuracy: 0.9957 - val_loss: 0.3468 - val_accuracy: 0.9644\n",
      "Epoch 84/100\n",
      "1500/1500 [==============================] - 7s 5ms/step - loss: 0.0158 - accuracy: 0.9951 - val_loss: 0.3509 - val_accuracy: 0.9626\n",
      "Epoch 85/100\n",
      "1500/1500 [==============================] - 7s 4ms/step - loss: 0.0114 - accuracy: 0.9962 - val_loss: 0.3815 - val_accuracy: 0.9588\n",
      "Epoch 86/100\n",
      "1500/1500 [==============================] - 7s 5ms/step - loss: 0.0144 - accuracy: 0.9954 - val_loss: 0.3753 - val_accuracy: 0.9633\n",
      "Epoch 87/100\n",
      "1500/1500 [==============================] - 7s 5ms/step - loss: 0.0134 - accuracy: 0.9961 - val_loss: 0.3787 - val_accuracy: 0.9597\n",
      "Epoch 88/100\n",
      "1500/1500 [==============================] - 7s 4ms/step - loss: 0.0141 - accuracy: 0.9949 - val_loss: 0.4404 - val_accuracy: 0.9564\n",
      "Epoch 89/100\n",
      "1500/1500 [==============================] - 6s 4ms/step - loss: 0.0105 - accuracy: 0.9967 - val_loss: 0.3751 - val_accuracy: 0.9618\n",
      "Epoch 90/100\n",
      "1500/1500 [==============================] - 7s 5ms/step - loss: 0.0141 - accuracy: 0.9955 - val_loss: 0.3863 - val_accuracy: 0.9602\n",
      "Epoch 91/100\n",
      "1500/1500 [==============================] - 7s 5ms/step - loss: 0.0143 - accuracy: 0.9954 - val_loss: 0.3829 - val_accuracy: 0.9619\n",
      "Epoch 92/100\n",
      "1500/1500 [==============================] - 7s 5ms/step - loss: 0.0126 - accuracy: 0.9959 - val_loss: 0.3579 - val_accuracy: 0.9631\n",
      "Epoch 93/100\n",
      "1500/1500 [==============================] - 7s 5ms/step - loss: 0.0099 - accuracy: 0.9971 - val_loss: 0.3798 - val_accuracy: 0.9622\n",
      "Epoch 94/100\n",
      "1500/1500 [==============================] - 7s 4ms/step - loss: 0.0152 - accuracy: 0.9950 - val_loss: 0.3839 - val_accuracy: 0.9638\n",
      "Epoch 95/100\n",
      "1500/1500 [==============================] - 7s 4ms/step - loss: 0.0123 - accuracy: 0.9958 - val_loss: 0.3802 - val_accuracy: 0.9630\n",
      "Epoch 96/100\n",
      "1500/1500 [==============================] - 7s 4ms/step - loss: 0.0115 - accuracy: 0.9965 - val_loss: 0.3890 - val_accuracy: 0.9612\n",
      "Epoch 97/100\n",
      "1500/1500 [==============================] - 7s 4ms/step - loss: 0.0127 - accuracy: 0.9960 - val_loss: 0.4166 - val_accuracy: 0.9616\n",
      "Epoch 98/100\n",
      "1500/1500 [==============================] - 7s 5ms/step - loss: 0.0115 - accuracy: 0.9963 - val_loss: 0.3953 - val_accuracy: 0.9620\n",
      "Epoch 99/100\n",
      "1500/1500 [==============================] - 7s 5ms/step - loss: 0.0101 - accuracy: 0.9968 - val_loss: 0.3941 - val_accuracy: 0.9632\n",
      "Epoch 100/100\n",
      "1500/1500 [==============================] - 7s 5ms/step - loss: 0.0181 - accuracy: 0.9944 - val_loss: 0.3918 - val_accuracy: 0.9615\n"
     ]
    }
   ],
   "source": [
    "#### 6. Treinamento\n",
    "\n",
    "historico = rede_simples.fit(x_treino, \n",
    "                             y_treino, \n",
    "                             epochs = 100, \n",
    "                             verbose = 1,\n",
    "                             validation_data = (x_val, y_val))"
   ]
  },
  {
   "cell_type": "markdown",
   "id": "211001b7",
   "metadata": {},
   "source": [
    "##### 7. Avaliação do modelo"
   ]
  },
  {
   "cell_type": "code",
   "execution_count": 58,
   "id": "1456eb5f",
   "metadata": {},
   "outputs": [
    {
     "name": "stdout",
     "output_type": "stream",
     "text": [
      "313/313 [==============================] - 1s 2ms/step\n"
     ]
    },
    {
     "data": {
      "text/plain": [
       "0.9581"
      ]
     },
     "execution_count": 58,
     "metadata": {},
     "output_type": "execute_result"
    }
   ],
   "source": [
    "from sklearn.metrics import confusion_matrix\n",
    "from sklearn.metrics import accuracy_score\n",
    "\n",
    "# Faz previsões no conjunto de teste usando o modelo treinado\n",
    "pred_simples = rede_simples.predict(x_test)\n",
    "\n",
    "# Calcula a precisão do modelo comparando os rótulos verdadeiros (y_test) com as previsões (pred_simples)\n",
    "# y_test.argmax(1) retorna os índices das classes verdadeiras\n",
    "# pred_simples.argmax(1) retorna os índices das classes previstas\n",
    "accuracy_score(y_test.argmax(1), pred_simples.argmax(1))"
   ]
  },
  {
   "cell_type": "code",
   "execution_count": 59,
   "id": "5cafac25",
   "metadata": {},
   "outputs": [
    {
     "data": {
      "text/plain": [
       "array([7, 2, 1, ..., 4, 5, 6], dtype=int64)"
      ]
     },
     "execution_count": 59,
     "metadata": {},
     "output_type": "execute_result"
    }
   ],
   "source": [
    "y_test.argmax(1)"
   ]
  },
  {
   "cell_type": "code",
   "execution_count": 60,
   "id": "0de346b9",
   "metadata": {},
   "outputs": [
    {
     "data": {
      "text/plain": [
       "array([0., 0., 0., 0., 0., 0., 0., 1., 0., 0.])"
      ]
     },
     "execution_count": 60,
     "metadata": {},
     "output_type": "execute_result"
    }
   ],
   "source": [
    "y_test[0]"
   ]
  },
  {
   "cell_type": "code",
   "execution_count": 61,
   "id": "0fd96b06",
   "metadata": {},
   "outputs": [
    {
     "data": {
      "text/plain": [
       "array([7, 2, 1, ..., 4, 5, 6], dtype=int64)"
      ]
     },
     "execution_count": 61,
     "metadata": {},
     "output_type": "execute_result"
    }
   ],
   "source": [
    "pred_simples.argmax(1)"
   ]
  },
  {
   "cell_type": "code",
   "execution_count": 62,
   "id": "58f97186",
   "metadata": {},
   "outputs": [
    {
     "data": {
      "text/plain": [
       "array([1.1494996e-25, 2.1606933e-27, 4.1523852e-23, 2.2562742e-19,\n",
       "       5.9234407e-26, 3.8840245e-24, 0.0000000e+00, 1.0000000e+00,\n",
       "       1.1262505e-20, 2.5111122e-17], dtype=float32)"
      ]
     },
     "execution_count": 62,
     "metadata": {},
     "output_type": "execute_result"
    }
   ],
   "source": [
    "pred_simples[0]"
   ]
  },
  {
   "cell_type": "code",
   "execution_count": 63,
   "id": "ce299114",
   "metadata": {},
   "outputs": [
    {
     "data": {
      "image/png": "[encoded data removed]",
      "text/plain": [
       "<Figure size 432x288 with 1 Axes>"
      ]
     },
     "metadata": {
      "needs_background": "light"
     },
     "output_type": "display_data"
    }
   ],
   "source": [
    "loss = historico.history['loss']\n",
    "val_loss = historico.history['val_loss']\n",
    "epochs = range(len(loss))\n",
    "plt.figure()\n",
    "plt.plot(epochs, loss, 'bo', label = 'Training loss')\n",
    "plt.plot(epochs, val_loss, 'b', label = 'Validation loss')\n",
    "plt.title('Training and validation loss')\n",
    "plt.legend()\n",
    "plt.show()"
   ]
  },
  {
   "cell_type": "markdown",
   "id": "649f54da",
   "metadata": {},
   "source": [
    "#### 8. Regularização\n",
    "1. Early Stopping: determinar quando encerrar o treinamento\n",
    "2. Dropout: selecionar neurônios aleatoriamente para o treinamento"
   ]
  },
  {
   "cell_type": "code",
   "execution_count": 64,
   "id": "8cda5aee",
   "metadata": {},
   "outputs": [
    {
     "name": "stdout",
     "output_type": "stream",
     "text": [
      "Epoch 1/150\n",
      "1500/1500 [==============================] - 6s 4ms/step - loss: 0.0095 - accuracy: 0.9969 - val_loss: 0.3942 - val_accuracy: 0.9629\n",
      "Epoch 2/150\n",
      "1500/1500 [==============================] - 6s 4ms/step - loss: 0.0081 - accuracy: 0.9973 - val_loss: 0.3769 - val_accuracy: 0.9625\n",
      "Epoch 3/150\n",
      "1500/1500 [==============================] - 7s 5ms/step - loss: 0.0127 - accuracy: 0.9960 - val_loss: 0.4299 - val_accuracy: 0.9597\n",
      "Epoch 4/150\n",
      "1500/1500 [==============================] - 6s 4ms/step - loss: 0.0128 - accuracy: 0.9960 - val_loss: 0.3774 - val_accuracy: 0.9627\n",
      "Epoch 5/150\n",
      "1500/1500 [==============================] - 7s 5ms/step - loss: 0.0137 - accuracy: 0.9962 - val_loss: 0.4031 - val_accuracy: 0.9615\n",
      "Epoch 6/150\n",
      "1500/1500 [==============================] - 7s 4ms/step - loss: 0.0093 - accuracy: 0.9972 - val_loss: 0.4057 - val_accuracy: 0.9612\n",
      "Epoch 7/150\n",
      "1500/1500 [==============================] - 7s 4ms/step - loss: 0.0129 - accuracy: 0.9963 - val_loss: 0.4491 - val_accuracy: 0.9574\n",
      "Epoch 8/150\n",
      "1500/1500 [==============================] - 7s 5ms/step - loss: 0.0110 - accuracy: 0.9965 - val_loss: 0.4358 - val_accuracy: 0.9615\n",
      "Epoch 9/150\n",
      "1500/1500 [==============================] - 7s 5ms/step - loss: 0.0127 - accuracy: 0.9962 - val_loss: 0.4379 - val_accuracy: 0.9630\n",
      "Epoch 10/150\n",
      "1500/1500 [==============================] - 7s 5ms/step - loss: 0.0103 - accuracy: 0.9969 - val_loss: 0.3999 - val_accuracy: 0.9632\n",
      "Epoch 11/150\n",
      "1500/1500 [==============================] - 7s 5ms/step - loss: 0.0137 - accuracy: 0.9955 - val_loss: 0.4334 - val_accuracy: 0.9601\n",
      "Epoch 12/150\n",
      "1500/1500 [==============================] - 7s 5ms/step - loss: 0.0101 - accuracy: 0.9967 - val_loss: 0.4238 - val_accuracy: 0.9627\n",
      "Epoch 12: early stopping\n"
     ]
    }
   ],
   "source": [
    "es = EarlyStopping(monitor = 'val_loss', min_delta = 0.001, patience = 10, verbose = 1, mode = 'auto')\n",
    "\n",
    "# Setamos os pesos iniciais iguais à versão antes do treinamento pra ter um comparativo mais real.\n",
    "#rede_simples.set_weights(pesos_iniciais)\n",
    "\n",
    "historico = rede_simples.fit(x_treino, \n",
    "                             y_treino, \n",
    "                             epochs = 150, \n",
    "                             verbose = 1,\n",
    "                             validation_data = (x_val, y_val),\n",
    "                             callbacks = [es])"
   ]
  },
  {
   "cell_type": "code",
   "execution_count": 65,
   "id": "0b40397b",
   "metadata": {},
   "outputs": [
    {
     "data": {
      "image/png": "[encoded data removed]",
      "text/plain": [
       "<Figure size 432x288 with 1 Axes>"
      ]
     },
     "metadata": {
      "needs_background": "light"
     },
     "output_type": "display_data"
    }
   ],
   "source": [
    "loss = historico.history['loss']\n",
    "val_loss = historico.history['val_loss']\n",
    "epochs = range(len(loss))\n",
    "plt.figure()\n",
    "plt.plot(epochs, loss, 'bo', label = 'Training loss')\n",
    "plt.plot(epochs, val_loss, 'b', label = 'Validation loss')\n",
    "plt.title('Training and validation loss')\n",
    "plt.legend()\n",
    "plt.show()"
   ]
  },
  {
   "cell_type": "code",
   "execution_count": 66,
   "id": "1961c951",
   "metadata": {},
   "outputs": [
    {
     "name": "stdout",
     "output_type": "stream",
     "text": [
      "313/313 [==============================] - 1s 3ms/step\n"
     ]
    },
    {
     "data": {
      "text/plain": [
       "0.9623"
      ]
     },
     "execution_count": 66,
     "metadata": {},
     "output_type": "execute_result"
    }
   ],
   "source": [
    "from sklearn.metrics import confusion_matrix\n",
    "from sklearn.metrics import accuracy_score\n",
    "\n",
    "pred_es = rede_simples.predict(x_test)\n",
    "\n",
    "accuracy_score(y_test.argmax(1), pred_es.argmax(1))"
   ]
  },
  {
   "cell_type": "code",
   "execution_count": 67,
   "id": "ac1f5c31",
   "metadata": {},
   "outputs": [
    {
     "data": {
      "text/plain": [
       "array([[ 963,    0,    2,    2,    2,    1,    6,    3,    1,    0],\n",
       "       [   0, 1118,    5,    4,    0,    2,    2,    0,    4,    0],\n",
       "       [   5,    2,  992,    7,    5,    2,    6,    6,    7,    0],\n",
       "       [   1,    0,    9,  971,    1,    9,    1,    9,    6,    3],\n",
       "       [   1,    1,    2,    1,  949,    0,    9,    0,    2,   17],\n",
       "       [   5,    3,    1,   14,    1,  836,   15,    3,    9,    5],\n",
       "       [   7,    1,    1,    2,    6,    3,  935,    1,    1,    1],\n",
       "       [   2,    8,   18,    7,    8,    0,    0,  974,    3,    8],\n",
       "       [   8,    2,    4,   10,    4,    6,    9,    6,  917,    8],\n",
       "       [   4,    5,    0,    6,    7,    4,    3,    7,    5,  968]],\n",
       "      dtype=int64)"
      ]
     },
     "execution_count": 67,
     "metadata": {},
     "output_type": "execute_result"
    }
   ],
   "source": [
    "confusion_matrix(y_test.argmax(1), pred_es.argmax(1))"
   ]
  },
  {
   "cell_type": "markdown",
   "id": "ad5828ba",
   "metadata": {},
   "source": [
    "### Regularização - Dropout\n",
    "\n",
    "* Alterna quais neurônios vão otimizar os pesos a cada rodada do treinamento"
   ]
  },
  {
   "cell_type": "code",
   "execution_count": 68,
   "id": "c61aad6a",
   "metadata": {},
   "outputs": [],
   "source": [
    "rede_dropout = Sequential()\n",
    "rede_dropout.add(Flatten())\n",
    "rede_dropout.add(Dense(25,  input_dim = 784))\n",
    "rede_dropout.add(Activation('relu'))\n",
    "rede_dropout.add(Dropout(0.3))\n",
    "rede_dropout.add(Dense(25))\n",
    "rede_dropout.add(Activation('relu'))\n",
    "rede_dropout.add(Dense(25))\n",
    "rede_dropout.add(Dropout(0.3))\n",
    "rede_dropout.add(Activation('relu'))\n",
    "rede_dropout.add(Dense(10))\n",
    "rede_dropout.add(Activation('softmax'))\n",
    "\n",
    "rede_dropout.compile(loss = 'categorical_crossentropy', optimizer = 'Adam', metrics=['accuracy'])\n"
   ]
  },
  {
   "cell_type": "code",
   "execution_count": 69,
   "id": "8d9e65e1",
   "metadata": {},
   "outputs": [
    {
     "name": "stdout",
     "output_type": "stream",
     "text": [
      "Epoch 1/150\n",
      "1500/1500 [==============================] - 8s 5ms/step - loss: 0.8492 - accuracy: 0.7210 - val_loss: 0.2834 - val_accuracy: 0.9222\n",
      "Epoch 2/150\n",
      "1500/1500 [==============================] - 6s 4ms/step - loss: 0.5161 - accuracy: 0.8446 - val_loss: 0.2595 - val_accuracy: 0.9270\n",
      "Epoch 3/150\n",
      "1500/1500 [==============================] - 6s 4ms/step - loss: 0.4653 - accuracy: 0.8619 - val_loss: 0.2347 - val_accuracy: 0.9320\n",
      "Epoch 4/150\n",
      "1500/1500 [==============================] - 6s 4ms/step - loss: 0.4317 - accuracy: 0.8720 - val_loss: 0.2299 - val_accuracy: 0.9352\n",
      "Epoch 5/150\n",
      "1500/1500 [==============================] - 6s 4ms/step - loss: 0.4079 - accuracy: 0.8808 - val_loss: 0.2269 - val_accuracy: 0.9348\n",
      "Epoch 6/150\n",
      "1500/1500 [==============================] - 6s 4ms/step - loss: 0.3905 - accuracy: 0.8844 - val_loss: 0.2137 - val_accuracy: 0.9394\n",
      "Epoch 7/150\n",
      "1500/1500 [==============================] - 6s 4ms/step - loss: 0.3821 - accuracy: 0.8877 - val_loss: 0.2096 - val_accuracy: 0.9398\n",
      "Epoch 8/150\n",
      "1500/1500 [==============================] - 7s 4ms/step - loss: 0.3692 - accuracy: 0.8897 - val_loss: 0.2091 - val_accuracy: 0.9406\n",
      "Epoch 9/150\n",
      "1500/1500 [==============================] - 6s 4ms/step - loss: 0.3603 - accuracy: 0.8943 - val_loss: 0.1977 - val_accuracy: 0.9437\n",
      "Epoch 10/150\n",
      "1500/1500 [==============================] - 7s 4ms/step - loss: 0.3526 - accuracy: 0.8960 - val_loss: 0.1958 - val_accuracy: 0.9460\n",
      "Epoch 11/150\n",
      "1500/1500 [==============================] - 6s 4ms/step - loss: 0.3444 - accuracy: 0.8983 - val_loss: 0.1999 - val_accuracy: 0.9444\n",
      "Epoch 12/150\n",
      "1500/1500 [==============================] - 7s 5ms/step - loss: 0.3367 - accuracy: 0.9005 - val_loss: 0.2061 - val_accuracy: 0.9418\n",
      "Epoch 13/150\n",
      "1500/1500 [==============================] - 7s 4ms/step - loss: 0.3369 - accuracy: 0.9005 - val_loss: 0.1923 - val_accuracy: 0.9457\n",
      "Epoch 14/150\n",
      "1500/1500 [==============================] - 6s 4ms/step - loss: 0.3264 - accuracy: 0.9042 - val_loss: 0.1848 - val_accuracy: 0.9475\n",
      "Epoch 15/150\n",
      "1500/1500 [==============================] - 6s 4ms/step - loss: 0.3217 - accuracy: 0.9055 - val_loss: 0.2020 - val_accuracy: 0.9425\n",
      "Epoch 16/150\n",
      "1500/1500 [==============================] - 6s 4ms/step - loss: 0.3198 - accuracy: 0.9058 - val_loss: 0.1963 - val_accuracy: 0.9456\n",
      "Epoch 17/150\n",
      "1500/1500 [==============================] - 7s 4ms/step - loss: 0.3189 - accuracy: 0.9067 - val_loss: 0.1962 - val_accuracy: 0.9441\n",
      "Epoch 18/150\n",
      "1500/1500 [==============================] - 6s 4ms/step - loss: 0.3114 - accuracy: 0.9079 - val_loss: 0.1915 - val_accuracy: 0.9465\n",
      "Epoch 19/150\n",
      "1500/1500 [==============================] - 6s 4ms/step - loss: 0.3170 - accuracy: 0.9063 - val_loss: 0.1850 - val_accuracy: 0.9477\n",
      "Epoch 20/150\n",
      "1500/1500 [==============================] - 6s 4ms/step - loss: 0.3063 - accuracy: 0.9089 - val_loss: 0.1874 - val_accuracy: 0.9469\n",
      "Epoch 21/150\n",
      "1500/1500 [==============================] - 6s 4ms/step - loss: 0.3064 - accuracy: 0.9090 - val_loss: 0.1885 - val_accuracy: 0.9464\n",
      "Epoch 22/150\n",
      "1500/1500 [==============================] - 6s 4ms/step - loss: 0.3061 - accuracy: 0.9120 - val_loss: 0.1871 - val_accuracy: 0.9470\n",
      "Epoch 23/150\n",
      "1500/1500 [==============================] - 6s 4ms/step - loss: 0.2988 - accuracy: 0.9126 - val_loss: 0.1857 - val_accuracy: 0.9479\n",
      "Epoch 24/150\n",
      "1500/1500 [==============================] - 7s 5ms/step - loss: 0.2966 - accuracy: 0.9120 - val_loss: 0.1880 - val_accuracy: 0.9468\n",
      "Epoch 24: early stopping\n"
     ]
    }
   ],
   "source": [
    "historico = rede_dropout.fit(x_treino, \n",
    "                             y_treino, \n",
    "                             epochs = 150, \n",
    "                             verbose = 1,\n",
    "                             validation_data = (x_val, y_val),\n",
    "                             callbacks = [es])"
   ]
  },
  {
   "cell_type": "code",
   "execution_count": 70,
   "id": "3e7565d3",
   "metadata": {},
   "outputs": [
    {
     "data": {
      "image/png": "[encoded data removed]",
      "text/plain": [
       "<Figure size 432x288 with 1 Axes>"
      ]
     },
     "metadata": {
      "needs_background": "light"
     },
     "output_type": "display_data"
    }
   ],
   "source": [
    "loss = historico.history['loss']\n",
    "val_loss = historico.history['val_loss']\n",
    "epochs = range(len(loss))\n",
    "plt.figure()\n",
    "plt.plot(epochs, loss, 'bo', label = 'Training loss')\n",
    "plt.plot(epochs, val_loss, 'b', label = 'Validation loss')\n",
    "plt.title('Training and validation loss')\n",
    "plt.legend()\n",
    "plt.show()"
   ]
  },
  {
   "cell_type": "code",
   "execution_count": 71,
   "id": "ae92ff6c",
   "metadata": {},
   "outputs": [
    {
     "name": "stdout",
     "output_type": "stream",
     "text": [
      "313/313 [==============================] - 1s 3ms/step\n"
     ]
    },
    {
     "data": {
      "text/plain": [
       "0.9493"
      ]
     },
     "execution_count": 71,
     "metadata": {},
     "output_type": "execute_result"
    }
   ],
   "source": [
    "pred_dropout = rede_dropout.predict(x_test)\n",
    "\n",
    "accuracy_score(y_test.argmax(1), pred_dropout.argmax(1))"
   ]
  },
  {
   "cell_type": "code",
   "execution_count": 72,
   "id": "b83a1b13",
   "metadata": {},
   "outputs": [
    {
     "data": {
      "text/plain": [
       "array([[ 950,    0,    1,    0,    1,    3,   15,    6,    3,    1],\n",
       "       [   0, 1111,    1,    3,    0,    1,    4,    2,   13,    0],\n",
       "       [   1,    2,  960,   16,    6,    3,   10,   16,   18,    0],\n",
       "       [   2,    1,   11,  952,    0,   22,    0,   12,    5,    5],\n",
       "       [   1,    0,    3,    0,  930,    0,    7,    2,    2,   37],\n",
       "       [   6,    1,    1,   17,    2,  829,   13,    1,    9,   13],\n",
       "       [   8,    4,    0,    1,    5,   11,  927,    0,    2,    0],\n",
       "       [   1,    6,   10,    7,    6,    0,    0,  982,    1,   15],\n",
       "       [   6,    5,    4,    7,    9,   11,   13,    9,  905,    5],\n",
       "       [   3,    4,    0,   12,   18,    9,    2,    6,    8,  947]],\n",
       "      dtype=int64)"
      ]
     },
     "execution_count": 72,
     "metadata": {},
     "output_type": "execute_result"
    }
   ],
   "source": [
    "confusion_matrix(y_test.argmax(1), pred_dropout.argmax(1))"
   ]
  },
  {
   "cell_type": "markdown",
   "id": "08fa1e6c",
   "metadata": {},
   "source": [
    "# Regressão"
   ]
  },
  {
   "cell_type": "code",
   "execution_count": 73,
   "id": "234b4647",
   "metadata": {},
   "outputs": [],
   "source": [
    "(x_train, y_train), (x_test, y_test) = keras.datasets.boston_housing.load_data()"
   ]
  },
  {
   "cell_type": "code",
   "execution_count": 74,
   "id": "e85962a3",
   "metadata": {},
   "outputs": [],
   "source": [
    "# Calcula a média dos dados de treinamento ao longo do eixo 0 (para cada característica)\n",
    "mean = x_train.mean(axis=0)\n",
    "\n",
    "# Subtrai a média dos dados de treinamento para centralizá-los em torno de zero\n",
    "x_train -= mean\n",
    "\n",
    "# Calcula o desvio padrão dos dados de treinamento ao longo do eixo 0 (para cada característica)\n",
    "std = x_train.std(axis=0)\n",
    "\n",
    "# Divide os dados de treinamento pelo desvio padrão para normalizá-los\n",
    "x_train /= std\n",
    "\n",
    "# Subtrai a mesma média dos dados de teste para centralizá-los em torno de zero\n",
    "x_test -= mean\n",
    "\n",
    "# Divide os dados de teste pelo mesmo desvio padrão para normalizá-los\n",
    "x_test /= std"
   ]
  },
  {
   "cell_type": "code",
   "execution_count": 75,
   "id": "1bf7785a",
   "metadata": {},
   "outputs": [
    {
     "data": {
      "text/plain": [
       "((323, 13), (81, 13), (102, 13), (323,), (81,), (102,))"
      ]
     },
     "execution_count": 75,
     "metadata": {},
     "output_type": "execute_result"
    }
   ],
   "source": [
    "from sklearn.model_selection import train_test_split\n",
    "\n",
    "x_treino, x_val, y_treino, y_val = train_test_split(x_train, y_train, test_size = 0.2, random_state = 13)\n",
    "\n",
    "x_treino.shape, x_val.shape, x_test.shape, y_treino.shape, y_val.shape, y_test.shape, "
   ]
  },
  {
   "cell_type": "code",
   "execution_count": 76,
   "id": "ae55ea00",
   "metadata": {},
   "outputs": [],
   "source": [
    "model = Sequential()\n",
    "model.add(Dense(64, activation='relu', input_shape=(x_treino.shape[1],)))\n",
    "model.add(Dense(64, activation='relu'))\n",
    "model.add(Dense(1))\n",
    "\n",
    "model.compile(optimizer='rmsprop',\n",
    "              loss='mse',\n",
    "              metrics=['mae'])"
   ]
  },
  {
   "cell_type": "code",
   "execution_count": 77,
   "id": "cdb24aa3",
   "metadata": {},
   "outputs": [
    {
     "name": "stdout",
     "output_type": "stream",
     "text": [
      "Epoch 1/150\n",
      "6/6 [==============================] - 1s 44ms/step - loss: 572.9531 - mae: 22.2097 - val_loss: 500.1543 - val_mae: 20.2413\n",
      "Epoch 2/150\n",
      "6/6 [==============================] - 0s 12ms/step - loss: 523.9325 - mae: 21.1255 - val_loss: 458.5078 - val_mae: 19.2493\n",
      "Epoch 3/150\n",
      "6/6 [==============================] - 0s 13ms/step - loss: 478.8898 - mae: 20.1004 - val_loss: 416.1425 - val_mae: 18.1791\n",
      "Epoch 4/150\n",
      "6/6 [==============================] - 0s 14ms/step - loss: 432.5567 - mae: 19.0015 - val_loss: 373.1993 - val_mae: 17.0154\n",
      "Epoch 5/150\n",
      "6/6 [==============================] - 0s 13ms/step - loss: 385.8578 - mae: 17.7978 - val_loss: 332.1242 - val_mae: 15.8381\n",
      "Epoch 6/150\n",
      "6/6 [==============================] - 0s 10ms/step - loss: 340.0725 - mae: 16.5515 - val_loss: 288.0937 - val_mae: 14.4729\n",
      "Epoch 7/150\n",
      "6/6 [==============================] - 0s 12ms/step - loss: 292.6257 - mae: 15.1458 - val_loss: 247.2886 - val_mae: 13.1231\n",
      "Epoch 8/150\n",
      "6/6 [==============================] - 0s 14ms/step - loss: 247.6500 - mae: 13.6530 - val_loss: 212.2353 - val_mae: 11.9076\n",
      "Epoch 9/150\n",
      "6/6 [==============================] - 0s 12ms/step - loss: 208.2513 - mae: 12.2724 - val_loss: 174.3689 - val_mae: 10.4603\n",
      "Epoch 10/150\n",
      "6/6 [==============================] - 0s 14ms/step - loss: 167.6145 - mae: 10.6933 - val_loss: 144.8737 - val_mae: 9.2931\n",
      "Epoch 11/150\n",
      "6/6 [==============================] - 0s 11ms/step - loss: 135.7651 - mae: 9.2660 - val_loss: 120.5342 - val_mae: 8.4161\n",
      "Epoch 12/150\n",
      "6/6 [==============================] - 0s 10ms/step - loss: 109.3365 - mae: 8.0757 - val_loss: 101.4344 - val_mae: 7.6429\n",
      "Epoch 13/150\n",
      "6/6 [==============================] - 0s 13ms/step - loss: 88.4275 - mae: 7.1486 - val_loss: 86.7842 - val_mae: 7.0192\n",
      "Epoch 14/150\n",
      "6/6 [==============================] - 0s 13ms/step - loss: 72.3706 - mae: 6.3913 - val_loss: 75.7400 - val_mae: 6.5670\n",
      "Epoch 15/150\n",
      "6/6 [==============================] - 0s 10ms/step - loss: 60.1572 - mae: 5.8382 - val_loss: 68.0232 - val_mae: 6.2024\n",
      "Epoch 16/150\n",
      "6/6 [==============================] - 0s 14ms/step - loss: 52.3446 - mae: 5.4053 - val_loss: 61.7209 - val_mae: 5.8968\n",
      "Epoch 17/150\n",
      "6/6 [==============================] - 0s 14ms/step - loss: 45.6399 - mae: 5.0317 - val_loss: 55.0145 - val_mae: 5.6028\n",
      "Epoch 18/150\n",
      "6/6 [==============================] - 0s 12ms/step - loss: 39.0117 - mae: 4.6642 - val_loss: 50.4403 - val_mae: 5.2293\n",
      "Epoch 19/150\n",
      "6/6 [==============================] - 0s 11ms/step - loss: 36.0310 - mae: 4.3662 - val_loss: 46.0313 - val_mae: 5.0342\n",
      "Epoch 20/150\n",
      "6/6 [==============================] - 0s 12ms/step - loss: 31.7453 - mae: 4.0907 - val_loss: 43.1481 - val_mae: 4.9285\n",
      "Epoch 21/150\n",
      "6/6 [==============================] - 0s 14ms/step - loss: 28.9011 - mae: 3.9176 - val_loss: 40.4651 - val_mae: 4.7339\n",
      "Epoch 22/150\n",
      "6/6 [==============================] - 0s 12ms/step - loss: 26.6130 - mae: 3.7442 - val_loss: 38.8216 - val_mae: 4.6406\n",
      "Epoch 23/150\n",
      "6/6 [==============================] - 0s 13ms/step - loss: 24.8022 - mae: 3.6136 - val_loss: 35.8070 - val_mae: 4.4867\n",
      "Epoch 24/150\n",
      "6/6 [==============================] - 0s 11ms/step - loss: 23.3133 - mae: 3.4987 - val_loss: 32.9700 - val_mae: 4.1428\n",
      "Epoch 25/150\n",
      "6/6 [==============================] - 0s 12ms/step - loss: 21.8589 - mae: 3.2991 - val_loss: 32.1565 - val_mae: 4.1836\n",
      "Epoch 26/150\n",
      "6/6 [==============================] - 0s 9ms/step - loss: 20.9738 - mae: 3.2789 - val_loss: 30.1505 - val_mae: 3.9165\n",
      "Epoch 27/150\n",
      "6/6 [==============================] - 0s 10ms/step - loss: 20.0984 - mae: 3.1510 - val_loss: 28.7557 - val_mae: 3.8671\n",
      "Epoch 28/150\n",
      "6/6 [==============================] - 0s 13ms/step - loss: 19.1538 - mae: 3.1216 - val_loss: 28.9517 - val_mae: 3.9108\n",
      "Epoch 29/150\n",
      "6/6 [==============================] - 0s 16ms/step - loss: 19.2416 - mae: 3.1596 - val_loss: 26.6989 - val_mae: 3.6631\n",
      "Epoch 30/150\n",
      "6/6 [==============================] - 0s 12ms/step - loss: 17.9564 - mae: 2.9857 - val_loss: 26.7400 - val_mae: 3.7102\n",
      "Epoch 31/150\n",
      "6/6 [==============================] - 0s 13ms/step - loss: 18.1760 - mae: 3.0536 - val_loss: 24.4471 - val_mae: 3.4086\n",
      "Epoch 32/150\n",
      "6/6 [==============================] - 0s 13ms/step - loss: 17.3137 - mae: 2.9067 - val_loss: 23.7164 - val_mae: 3.3784\n",
      "Epoch 33/150\n",
      "6/6 [==============================] - 0s 13ms/step - loss: 16.5638 - mae: 2.8230 - val_loss: 22.9584 - val_mae: 3.3850\n",
      "Epoch 34/150\n",
      "6/6 [==============================] - 0s 14ms/step - loss: 16.5497 - mae: 2.8518 - val_loss: 22.8669 - val_mae: 3.3878\n",
      "Epoch 35/150\n",
      "6/6 [==============================] - 0s 14ms/step - loss: 15.9572 - mae: 2.8124 - val_loss: 21.2725 - val_mae: 3.1656\n",
      "Epoch 36/150\n",
      "6/6 [==============================] - 0s 15ms/step - loss: 15.5052 - mae: 2.7348 - val_loss: 20.4548 - val_mae: 3.1012\n",
      "Epoch 37/150\n",
      "6/6 [==============================] - 0s 11ms/step - loss: 15.1870 - mae: 2.7046 - val_loss: 20.6242 - val_mae: 3.0385\n",
      "Epoch 38/150\n",
      "6/6 [==============================] - 0s 12ms/step - loss: 14.8533 - mae: 2.6616 - val_loss: 19.3233 - val_mae: 2.9932\n",
      "Epoch 39/150\n",
      "6/6 [==============================] - 0s 13ms/step - loss: 14.6122 - mae: 2.6454 - val_loss: 19.0535 - val_mae: 3.0245\n",
      "Epoch 40/150\n",
      "6/6 [==============================] - 0s 11ms/step - loss: 14.3300 - mae: 2.6273 - val_loss: 18.5477 - val_mae: 2.9763\n",
      "Epoch 41/150\n",
      "6/6 [==============================] - 0s 13ms/step - loss: 14.0179 - mae: 2.6017 - val_loss: 18.4543 - val_mae: 3.0430\n",
      "Epoch 42/150\n",
      "6/6 [==============================] - 0s 12ms/step - loss: 14.0975 - mae: 2.6592 - val_loss: 17.3772 - val_mae: 2.8169\n",
      "Epoch 43/150\n",
      "6/6 [==============================] - 0s 22ms/step - loss: 13.6172 - mae: 2.5697 - val_loss: 17.4210 - val_mae: 2.8221\n",
      "Epoch 44/150\n",
      "6/6 [==============================] - 0s 13ms/step - loss: 13.4598 - mae: 2.5508 - val_loss: 16.9315 - val_mae: 2.8417\n",
      "Epoch 45/150\n",
      "6/6 [==============================] - 0s 14ms/step - loss: 13.0760 - mae: 2.5268 - val_loss: 19.3952 - val_mae: 2.9595\n",
      "Epoch 46/150\n",
      "6/6 [==============================] - 0s 12ms/step - loss: 13.4067 - mae: 2.5344 - val_loss: 17.0282 - val_mae: 2.7742\n",
      "Epoch 47/150\n",
      "6/6 [==============================] - 0s 14ms/step - loss: 12.7584 - mae: 2.4830 - val_loss: 15.9824 - val_mae: 2.7676\n",
      "Epoch 48/150\n",
      "6/6 [==============================] - 0s 14ms/step - loss: 12.6503 - mae: 2.5242 - val_loss: 15.4419 - val_mae: 2.7367\n",
      "Epoch 49/150\n",
      "6/6 [==============================] - 0s 11ms/step - loss: 12.4193 - mae: 2.5103 - val_loss: 16.2614 - val_mae: 2.7669\n",
      "Epoch 50/150\n",
      "6/6 [==============================] - 0s 14ms/step - loss: 12.4392 - mae: 2.4745 - val_loss: 15.5872 - val_mae: 2.6988\n",
      "Epoch 51/150\n",
      "6/6 [==============================] - 0s 13ms/step - loss: 12.0631 - mae: 2.4373 - val_loss: 16.4430 - val_mae: 2.7763\n",
      "Epoch 52/150\n",
      "6/6 [==============================] - 0s 13ms/step - loss: 11.9500 - mae: 2.4002 - val_loss: 15.1942 - val_mae: 2.5955\n",
      "Epoch 53/150\n",
      "6/6 [==============================] - 0s 13ms/step - loss: 11.7648 - mae: 2.3916 - val_loss: 14.1156 - val_mae: 2.5854\n",
      "Epoch 54/150\n",
      "6/6 [==============================] - 0s 14ms/step - loss: 11.7192 - mae: 2.4086 - val_loss: 14.3821 - val_mae: 2.6074\n",
      "Epoch 55/150\n",
      "6/6 [==============================] - 0s 13ms/step - loss: 11.5810 - mae: 2.3941 - val_loss: 14.0473 - val_mae: 2.6579\n",
      "Epoch 56/150\n",
      "6/6 [==============================] - 0s 13ms/step - loss: 11.6050 - mae: 2.3936 - val_loss: 14.7492 - val_mae: 2.6077\n",
      "Epoch 57/150\n",
      "6/6 [==============================] - 0s 12ms/step - loss: 11.2935 - mae: 2.3298 - val_loss: 13.9925 - val_mae: 2.6949\n",
      "Epoch 58/150\n",
      "6/6 [==============================] - 0s 13ms/step - loss: 11.5814 - mae: 2.4010 - val_loss: 14.1907 - val_mae: 2.6898\n",
      "Epoch 59/150\n",
      "6/6 [==============================] - 0s 13ms/step - loss: 11.0449 - mae: 2.3354 - val_loss: 14.6794 - val_mae: 2.6901\n",
      "Epoch 60/150\n",
      "6/6 [==============================] - 0s 13ms/step - loss: 11.1928 - mae: 2.3405 - val_loss: 13.4602 - val_mae: 2.5356\n",
      "Epoch 61/150\n",
      "6/6 [==============================] - 0s 13ms/step - loss: 10.8775 - mae: 2.2893 - val_loss: 13.3445 - val_mae: 2.6527\n",
      "Epoch 62/150\n",
      "6/6 [==============================] - 0s 12ms/step - loss: 11.0393 - mae: 2.3567 - val_loss: 13.1888 - val_mae: 2.5760\n",
      "Epoch 63/150\n",
      "6/6 [==============================] - 0s 14ms/step - loss: 10.8119 - mae: 2.2943 - val_loss: 13.6279 - val_mae: 2.6471\n",
      "Epoch 64/150\n",
      "6/6 [==============================] - 0s 13ms/step - loss: 11.1751 - mae: 2.3602 - val_loss: 12.3823 - val_mae: 2.4592\n",
      "Epoch 65/150\n",
      "6/6 [==============================] - 0s 12ms/step - loss: 10.4820 - mae: 2.2719 - val_loss: 14.7880 - val_mae: 2.7107\n",
      "Epoch 66/150\n",
      "6/6 [==============================] - 0s 12ms/step - loss: 10.9950 - mae: 2.3027 - val_loss: 13.2905 - val_mae: 2.5304\n",
      "Epoch 67/150\n",
      "6/6 [==============================] - 0s 16ms/step - loss: 10.5560 - mae: 2.2565 - val_loss: 12.7437 - val_mae: 2.4640\n",
      "Epoch 68/150\n",
      "6/6 [==============================] - 0s 9ms/step - loss: 10.2530 - mae: 2.2363 - val_loss: 12.5120 - val_mae: 2.4725\n",
      "Epoch 69/150\n",
      "6/6 [==============================] - 0s 8ms/step - loss: 10.1359 - mae: 2.2125 - val_loss: 12.0799 - val_mae: 2.5002\n",
      "Epoch 70/150\n",
      "6/6 [==============================] - 0s 14ms/step - loss: 10.1489 - mae: 2.2398 - val_loss: 11.9629 - val_mae: 2.4394\n",
      "Epoch 71/150\n",
      "6/6 [==============================] - 0s 22ms/step - loss: 9.9632 - mae: 2.2199 - val_loss: 11.6423 - val_mae: 2.3861\n",
      "Epoch 72/150\n",
      "6/6 [==============================] - 0s 13ms/step - loss: 9.9692 - mae: 2.2003 - val_loss: 13.5369 - val_mae: 2.6109\n",
      "Epoch 73/150\n",
      "6/6 [==============================] - 0s 13ms/step - loss: 10.2065 - mae: 2.2479 - val_loss: 11.5837 - val_mae: 2.3793\n",
      "Epoch 74/150\n",
      "6/6 [==============================] - 0s 13ms/step - loss: 9.9078 - mae: 2.1917 - val_loss: 11.7199 - val_mae: 2.3343\n",
      "Epoch 75/150\n",
      "6/6 [==============================] - 0s 12ms/step - loss: 10.0065 - mae: 2.2016 - val_loss: 11.6933 - val_mae: 2.3997\n",
      "Epoch 76/150\n",
      "6/6 [==============================] - 0s 10ms/step - loss: 10.0430 - mae: 2.2327 - val_loss: 12.6228 - val_mae: 2.4305\n",
      "Epoch 77/150\n",
      "6/6 [==============================] - 0s 11ms/step - loss: 10.1241 - mae: 2.1791 - val_loss: 11.1620 - val_mae: 2.3551\n",
      "Epoch 78/150\n",
      "6/6 [==============================] - 0s 12ms/step - loss: 9.7730 - mae: 2.1978 - val_loss: 11.2347 - val_mae: 2.3066\n",
      "Epoch 79/150\n",
      "6/6 [==============================] - 0s 12ms/step - loss: 9.6193 - mae: 2.1594 - val_loss: 11.1678 - val_mae: 2.2896\n",
      "Epoch 80/150\n",
      "6/6 [==============================] - 0s 14ms/step - loss: 9.7253 - mae: 2.1677 - val_loss: 12.1343 - val_mae: 2.4623\n",
      "Epoch 81/150\n",
      "6/6 [==============================] - 0s 12ms/step - loss: 10.2747 - mae: 2.2330 - val_loss: 11.0299 - val_mae: 2.3487\n",
      "Epoch 82/150\n",
      "6/6 [==============================] - 0s 12ms/step - loss: 9.4247 - mae: 2.1189 - val_loss: 11.4253 - val_mae: 2.3359\n",
      "Epoch 83/150\n",
      "6/6 [==============================] - 0s 12ms/step - loss: 9.3809 - mae: 2.1081 - val_loss: 11.1729 - val_mae: 2.4576\n",
      "Epoch 84/150\n",
      "6/6 [==============================] - 0s 11ms/step - loss: 9.5547 - mae: 2.1984 - val_loss: 12.7739 - val_mae: 2.5841\n",
      "Epoch 85/150\n",
      "6/6 [==============================] - 0s 12ms/step - loss: 9.7208 - mae: 2.1549 - val_loss: 11.2961 - val_mae: 2.4345\n",
      "Epoch 86/150\n",
      "6/6 [==============================] - 0s 13ms/step - loss: 9.3400 - mae: 2.1307 - val_loss: 11.0352 - val_mae: 2.3469\n",
      "Epoch 87/150\n",
      "6/6 [==============================] - 0s 13ms/step - loss: 9.3150 - mae: 2.1206 - val_loss: 10.4227 - val_mae: 2.3365\n",
      "Epoch 88/150\n",
      "6/6 [==============================] - 0s 12ms/step - loss: 9.6109 - mae: 2.1934 - val_loss: 10.7252 - val_mae: 2.2708\n",
      "Epoch 89/150\n",
      "6/6 [==============================] - 0s 13ms/step - loss: 9.1591 - mae: 2.0987 - val_loss: 11.6129 - val_mae: 2.4794\n",
      "Epoch 90/150\n",
      "6/6 [==============================] - 0s 12ms/step - loss: 9.3726 - mae: 2.1598 - val_loss: 10.7841 - val_mae: 2.2710\n",
      "Epoch 91/150\n",
      "6/6 [==============================] - 0s 9ms/step - loss: 9.1551 - mae: 2.0900 - val_loss: 10.3273 - val_mae: 2.3551\n",
      "Epoch 92/150\n",
      "6/6 [==============================] - 0s 11ms/step - loss: 9.4071 - mae: 2.1821 - val_loss: 9.9319 - val_mae: 2.2607\n",
      "Epoch 93/150\n",
      "6/6 [==============================] - 0s 13ms/step - loss: 8.9612 - mae: 2.0930 - val_loss: 10.7358 - val_mae: 2.3374\n",
      "Epoch 94/150\n",
      "6/6 [==============================] - 0s 13ms/step - loss: 9.0317 - mae: 2.0886 - val_loss: 10.3805 - val_mae: 2.3294\n",
      "Epoch 95/150\n",
      "6/6 [==============================] - 0s 11ms/step - loss: 8.9665 - mae: 2.0952 - val_loss: 10.6767 - val_mae: 2.4272\n",
      "Epoch 96/150\n",
      "6/6 [==============================] - 0s 12ms/step - loss: 9.0322 - mae: 2.0932 - val_loss: 10.5983 - val_mae: 2.4168\n",
      "Epoch 97/150\n",
      "6/6 [==============================] - 0s 19ms/step - loss: 8.9873 - mae: 2.1082 - val_loss: 11.3670 - val_mae: 2.4376\n",
      "Epoch 98/150\n",
      "6/6 [==============================] - 0s 11ms/step - loss: 8.9562 - mae: 2.0977 - val_loss: 10.6241 - val_mae: 2.4724\n",
      "Epoch 99/150\n",
      "6/6 [==============================] - 0s 13ms/step - loss: 9.3438 - mae: 2.1941 - val_loss: 10.0766 - val_mae: 2.3561\n",
      "Epoch 100/150\n",
      "6/6 [==============================] - 0s 11ms/step - loss: 8.8012 - mae: 2.0873 - val_loss: 9.9016 - val_mae: 2.2938\n",
      "Epoch 101/150\n",
      "6/6 [==============================] - 0s 11ms/step - loss: 8.7322 - mae: 2.0863 - val_loss: 10.8910 - val_mae: 2.4102\n",
      "Epoch 102/150\n",
      "6/6 [==============================] - 0s 12ms/step - loss: 8.7078 - mae: 2.0632 - val_loss: 11.2276 - val_mae: 2.4292\n",
      "Epoch 103/150\n",
      "6/6 [==============================] - 0s 11ms/step - loss: 8.9298 - mae: 2.0758 - val_loss: 9.4848 - val_mae: 2.1875\n",
      "Epoch 104/150\n",
      "6/6 [==============================] - 0s 11ms/step - loss: 8.5106 - mae: 2.0478 - val_loss: 10.0548 - val_mae: 2.1990\n",
      "Epoch 105/150\n",
      "6/6 [==============================] - 0s 11ms/step - loss: 8.7766 - mae: 2.0813 - val_loss: 9.7438 - val_mae: 2.1913\n",
      "Epoch 106/150\n",
      "6/6 [==============================] - 0s 12ms/step - loss: 8.4537 - mae: 2.0250 - val_loss: 10.1106 - val_mae: 2.2988\n",
      "Epoch 107/150\n",
      "6/6 [==============================] - 0s 13ms/step - loss: 8.5205 - mae: 2.0311 - val_loss: 11.8995 - val_mae: 2.3976\n",
      "Epoch 108/150\n",
      "6/6 [==============================] - 0s 11ms/step - loss: 8.9870 - mae: 2.0479 - val_loss: 10.0810 - val_mae: 2.2140\n",
      "Epoch 109/150\n",
      "6/6 [==============================] - 0s 11ms/step - loss: 8.6387 - mae: 2.0523 - val_loss: 9.3132 - val_mae: 2.1631\n",
      "Epoch 110/150\n",
      "6/6 [==============================] - 0s 11ms/step - loss: 8.5532 - mae: 2.0618 - val_loss: 9.2796 - val_mae: 2.1480\n",
      "Epoch 111/150\n",
      "6/6 [==============================] - 0s 12ms/step - loss: 8.3324 - mae: 2.0034 - val_loss: 9.7322 - val_mae: 2.2356\n",
      "Epoch 112/150\n",
      "6/6 [==============================] - 0s 11ms/step - loss: 8.4666 - mae: 2.0473 - val_loss: 10.7705 - val_mae: 2.3418\n",
      "Epoch 113/150\n",
      "6/6 [==============================] - 0s 13ms/step - loss: 8.7389 - mae: 2.0525 - val_loss: 9.4200 - val_mae: 2.1734\n",
      "Epoch 114/150\n",
      "6/6 [==============================] - 0s 10ms/step - loss: 8.2348 - mae: 1.9910 - val_loss: 10.3222 - val_mae: 2.2879\n",
      "Epoch 115/150\n",
      "6/6 [==============================] - 0s 10ms/step - loss: 8.2612 - mae: 1.9923 - val_loss: 9.7953 - val_mae: 2.1518\n",
      "Epoch 116/150\n",
      "6/6 [==============================] - 0s 14ms/step - loss: 8.2863 - mae: 1.9983 - val_loss: 10.8119 - val_mae: 2.3366\n",
      "Epoch 117/150\n",
      "6/6 [==============================] - 0s 13ms/step - loss: 8.5391 - mae: 2.0319 - val_loss: 10.2864 - val_mae: 2.3086\n",
      "Epoch 118/150\n",
      "6/6 [==============================] - 0s 12ms/step - loss: 8.2824 - mae: 1.9876 - val_loss: 9.1154 - val_mae: 2.1648\n",
      "Epoch 119/150\n",
      "6/6 [==============================] - 0s 11ms/step - loss: 8.2122 - mae: 2.0086 - val_loss: 8.9840 - val_mae: 2.1938\n",
      "Epoch 120/150\n",
      "6/6 [==============================] - 0s 20ms/step - loss: 8.0751 - mae: 1.9933 - val_loss: 9.7000 - val_mae: 2.2198\n",
      "Epoch 121/150\n",
      "6/6 [==============================] - 0s 13ms/step - loss: 8.2501 - mae: 1.9867 - val_loss: 9.3826 - val_mae: 2.1945\n",
      "Epoch 122/150\n",
      "6/6 [==============================] - 0s 12ms/step - loss: 8.1856 - mae: 1.9883 - val_loss: 8.8186 - val_mae: 2.1469\n",
      "Epoch 123/150\n",
      "6/6 [==============================] - 0s 12ms/step - loss: 8.0732 - mae: 1.9722 - val_loss: 8.7432 - val_mae: 2.1294\n",
      "Epoch 124/150\n",
      "6/6 [==============================] - 0s 12ms/step - loss: 7.9618 - mae: 1.9839 - val_loss: 8.7294 - val_mae: 2.1122\n",
      "Epoch 125/150\n",
      "6/6 [==============================] - 0s 12ms/step - loss: 8.0274 - mae: 1.9797 - val_loss: 8.8738 - val_mae: 2.1770\n",
      "Epoch 126/150\n",
      "6/6 [==============================] - 0s 13ms/step - loss: 7.8584 - mae: 1.9691 - val_loss: 10.7518 - val_mae: 2.4508\n",
      "Epoch 127/150\n",
      "6/6 [==============================] - 0s 11ms/step - loss: 8.0074 - mae: 1.9838 - val_loss: 8.5578 - val_mae: 2.1176\n",
      "Epoch 128/150\n",
      "6/6 [==============================] - 0s 11ms/step - loss: 8.0128 - mae: 1.9634 - val_loss: 8.9595 - val_mae: 2.1647\n",
      "Epoch 129/150\n",
      "6/6 [==============================] - 0s 7ms/step - loss: 8.0139 - mae: 2.0157 - val_loss: 9.2682 - val_mae: 2.1623\n",
      "Epoch 130/150\n",
      "6/6 [==============================] - 0s 11ms/step - loss: 7.7404 - mae: 1.9324 - val_loss: 9.0442 - val_mae: 2.2270\n",
      "Epoch 131/150\n",
      "6/6 [==============================] - 0s 11ms/step - loss: 7.8436 - mae: 1.9784 - val_loss: 10.0585 - val_mae: 2.3505\n",
      "Epoch 132/150\n",
      "6/6 [==============================] - 0s 13ms/step - loss: 7.7648 - mae: 1.9247 - val_loss: 9.6861 - val_mae: 2.2953\n",
      "Epoch 133/150\n",
      "6/6 [==============================] - 0s 11ms/step - loss: 8.1192 - mae: 2.0540 - val_loss: 8.3735 - val_mae: 2.0835\n",
      "Epoch 134/150\n",
      "6/6 [==============================] - 0s 12ms/step - loss: 7.5997 - mae: 1.9231 - val_loss: 9.1977 - val_mae: 2.2729\n",
      "Epoch 135/150\n",
      "6/6 [==============================] - 0s 12ms/step - loss: 7.9174 - mae: 1.9906 - val_loss: 8.3201 - val_mae: 2.1244\n",
      "Epoch 136/150\n",
      "6/6 [==============================] - 0s 12ms/step - loss: 7.6068 - mae: 1.9455 - val_loss: 8.2005 - val_mae: 2.0953\n",
      "Epoch 137/150\n",
      "6/6 [==============================] - 0s 11ms/step - loss: 7.4168 - mae: 1.9003 - val_loss: 10.2971 - val_mae: 2.4371\n",
      "Epoch 138/150\n",
      "6/6 [==============================] - 0s 10ms/step - loss: 7.9697 - mae: 1.9798 - val_loss: 8.5573 - val_mae: 2.1384\n",
      "Epoch 139/150\n",
      "6/6 [==============================] - 0s 13ms/step - loss: 7.4237 - mae: 1.8906 - val_loss: 8.5765 - val_mae: 2.1611\n",
      "Epoch 140/150\n",
      "6/6 [==============================] - 0s 12ms/step - loss: 7.8223 - mae: 1.9885 - val_loss: 7.8719 - val_mae: 2.0325\n",
      "Epoch 141/150\n",
      "6/6 [==============================] - 0s 15ms/step - loss: 7.3660 - mae: 1.9106 - val_loss: 8.7726 - val_mae: 2.1130\n",
      "Epoch 142/150\n",
      "6/6 [==============================] - 0s 15ms/step - loss: 7.4831 - mae: 1.8971 - val_loss: 9.3784 - val_mae: 2.2141\n",
      "Epoch 143/150\n",
      "6/6 [==============================] - 0s 15ms/step - loss: 7.5538 - mae: 1.9143 - val_loss: 8.0080 - val_mae: 2.0636\n",
      "Epoch 144/150\n",
      "6/6 [==============================] - 0s 13ms/step - loss: 7.2421 - mae: 1.8910 - val_loss: 8.7114 - val_mae: 2.1466\n",
      "Epoch 145/150\n",
      "6/6 [==============================] - 0s 14ms/step - loss: 7.2316 - mae: 1.8611 - val_loss: 8.6509 - val_mae: 2.1143\n",
      "Epoch 146/150\n",
      "6/6 [==============================] - 0s 12ms/step - loss: 7.3194 - mae: 1.8732 - val_loss: 8.7330 - val_mae: 2.1082\n",
      "Epoch 147/150\n",
      "6/6 [==============================] - 0s 8ms/step - loss: 7.4416 - mae: 1.8748 - val_loss: 9.0834 - val_mae: 2.1734\n",
      "Epoch 148/150\n",
      "6/6 [==============================] - 0s 15ms/step - loss: 7.3244 - mae: 1.8620 - val_loss: 9.2202 - val_mae: 2.2636\n",
      "Epoch 149/150\n",
      "6/6 [==============================] - 0s 13ms/step - loss: 7.2840 - mae: 1.8611 - val_loss: 9.2065 - val_mae: 2.2628\n",
      "Epoch 150/150\n",
      "6/6 [==============================] - 0s 14ms/step - loss: 7.1662 - mae: 1.8438 - val_loss: 8.4630 - val_mae: 2.1939\n",
      "Epoch 150: early stopping\n"
     ]
    }
   ],
   "source": [
    "es = EarlyStopping(monitor = 'val_loss', min_delta = 0.001, patience = 10, verbose = 1, mode = 'auto')\n",
    "\n",
    "historico = model.fit(x_treino, \n",
    "                             y_treino, \n",
    "                             epochs = 150, \n",
    "                             batch_size=64,\n",
    "                             verbose = 1,\n",
    "                             validation_data = (x_val, y_val),\n",
    "                             callbacks = [es])"
   ]
  },
  {
   "cell_type": "code",
   "execution_count": 78,
   "id": "a9e98860",
   "metadata": {},
   "outputs": [
    {
     "name": "stdout",
     "output_type": "stream",
     "text": [
      "4/4 [==============================] - 0s 3ms/step\n"
     ]
    }
   ],
   "source": [
    "pred_simples = model.predict(x_test)"
   ]
  },
  {
   "cell_type": "code",
   "execution_count": 79,
   "id": "d1f49503",
   "metadata": {},
   "outputs": [
    {
     "data": {
      "text/plain": [
       "2.988395960190717"
      ]
     },
     "execution_count": 79,
     "metadata": {},
     "output_type": "execute_result"
    }
   ],
   "source": [
    "from sklearn.metrics import mean_absolute_error\n",
    "\n",
    "mean_absolute_error(y_test, pred_simples)"
   ]
  },
  {
   "cell_type": "code",
   "execution_count": 80,
   "id": "147e8ece",
   "metadata": {},
   "outputs": [
    {
     "data": {
      "text/html": [
       "<div>\n",
       "<style scoped>\n",
       "    .dataframe tbody tr th:only-of-type {\n",
       "        vertical-align: middle;\n",
       "    }\n",
       "\n",
       "    .dataframe tbody tr th {\n",
       "        vertical-align: top;\n",
       "    }\n",
       "\n",
       "    .dataframe thead th {\n",
       "        text-align: right;\n",
       "    }\n",
       "</style>\n",
       "<table border=\"1\" class=\"dataframe\">\n",
       "  <thead>\n",
       "    <tr style=\"text-align: right;\">\n",
       "      <th></th>\n",
       "      <th>y_test</th>\n",
       "      <th>y_pred</th>\n",
       "    </tr>\n",
       "  </thead>\n",
       "  <tbody>\n",
       "    <tr>\n",
       "      <th>0</th>\n",
       "      <td>7.2</td>\n",
       "      <td>8.970073</td>\n",
       "    </tr>\n",
       "    <tr>\n",
       "      <th>1</th>\n",
       "      <td>18.8</td>\n",
       "      <td>18.915127</td>\n",
       "    </tr>\n",
       "    <tr>\n",
       "      <th>2</th>\n",
       "      <td>19.0</td>\n",
       "      <td>21.200138</td>\n",
       "    </tr>\n",
       "    <tr>\n",
       "      <th>3</th>\n",
       "      <td>27.0</td>\n",
       "      <td>35.298557</td>\n",
       "    </tr>\n",
       "    <tr>\n",
       "      <th>4</th>\n",
       "      <td>22.2</td>\n",
       "      <td>24.693787</td>\n",
       "    </tr>\n",
       "    <tr>\n",
       "      <th>...</th>\n",
       "      <td>...</td>\n",
       "      <td>...</td>\n",
       "    </tr>\n",
       "    <tr>\n",
       "      <th>97</th>\n",
       "      <td>21.9</td>\n",
       "      <td>51.260399</td>\n",
       "    </tr>\n",
       "    <tr>\n",
       "      <th>98</th>\n",
       "      <td>24.1</td>\n",
       "      <td>26.864939</td>\n",
       "    </tr>\n",
       "    <tr>\n",
       "      <th>99</th>\n",
       "      <td>50.0</td>\n",
       "      <td>49.092487</td>\n",
       "    </tr>\n",
       "    <tr>\n",
       "      <th>100</th>\n",
       "      <td>26.7</td>\n",
       "      <td>32.457397</td>\n",
       "    </tr>\n",
       "    <tr>\n",
       "      <th>101</th>\n",
       "      <td>25.0</td>\n",
       "      <td>21.517649</td>\n",
       "    </tr>\n",
       "  </tbody>\n",
       "</table>\n",
       "<p>102 rows × 2 columns</p>\n",
       "</div>"
      ],
      "text/plain": [
       "     y_test     y_pred\n",
       "0       7.2   8.970073\n",
       "1      18.8  18.915127\n",
       "2      19.0  21.200138\n",
       "3      27.0  35.298557\n",
       "4      22.2  24.693787\n",
       "..      ...        ...\n",
       "97     21.9  51.260399\n",
       "98     24.1  26.864939\n",
       "99     50.0  49.092487\n",
       "100    26.7  32.457397\n",
       "101    25.0  21.517649\n",
       "\n",
       "[102 rows x 2 columns]"
      ]
     },
     "execution_count": 80,
     "metadata": {},
     "output_type": "execute_result"
    }
   ],
   "source": [
    "import pandas as pd\n",
    "\n",
    "resultado = pd.DataFrame()\n",
    "resultado['y_test'] = y_test\n",
    "resultado['y_pred'] = pred_simples\n",
    "\n",
    "resultado"
   ]
  }
 ],
 "metadata": {
  "kernelspec": {
   "display_name": "Python 3 (ipykernel)",
   "language": "python",
   "name": "python3"
  },
  "language_info": {
   "codemirror_mode": {
    "name": "ipython",
    "version": 3
   },
   "file_extension": ".py",
   "mimetype": "text/x-python",
   "name": "python",
   "nbconvert_exporter": "python",
   "pygments_lexer": "ipython3",
   "version": "3.9.7"
  }
 },
 "nbformat": 4,
 "nbformat_minor": 5
}
